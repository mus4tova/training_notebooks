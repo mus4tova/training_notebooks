{
 "cells": [
  {
   "cell_type": "code",
   "execution_count": 1,
   "id": "e67a0acb-dfdb-4dec-b22b-299673216e14",
   "metadata": {},
   "outputs": [],
   "source": [
    "import numpy as np\n",
    "import pandas as pd\n",
    "import matplotlib.pyplot as plt\n",
    "import seaborn as sns\n",
    "from sklearn import preprocessing\n",
    "from sklearn.preprocessing import MinMaxScaler\n",
    "from sklearn.preprocessing import LabelEncoder\n",
    "\n",
    "from sklearn.preprocessing import MultiLabelBinarizer\n",
    "from sklearn.model_selection import train_test_split\n",
    "from sklearn.linear_model import LogisticRegression\n",
    "from sklearn.metrics import (\n",
    "    classification_report,\n",
    "    confusion_matrix,\n",
    "    ConfusionMatrixDisplay,\n",
    "    accuracy_score,\n",
    "    recall_score,\n",
    "    precision_score,\n",
    "    f1_score,\n",
    "    roc_auc_score,\n",
    "    roc_curve,\n",
    "    precision_recall_curve,\n",
    "    RocCurveDisplay,\n",
    "    PrecisionRecallDisplay,\n",
    ")\n",
    "import keras\n",
    "from keras import preprocessing\n",
    "from keras.utils import pad_sequences\n",
    "from keras.models import Sequential\n",
    "from keras.layers import Flatten, Dense, Embedding\n",
    "from tensorflow.keras import layers\n",
    "import tensorflow as tf"
   ]
  },
  {
   "cell_type": "markdown",
   "id": "0a07dadf-81e7-49af-9f72-3a71e57ff18c",
   "metadata": {},
   "source": [
    "## Data loading"
   ]
  },
  {
   "cell_type": "code",
   "execution_count": 2,
   "id": "c9299429-cdba-4c2a-8940-2dcd463e03c1",
   "metadata": {},
   "outputs": [],
   "source": [
    "df = pd.read_csv('click_data.csv')"
   ]
  },
  {
   "cell_type": "raw",
   "id": "8a441630-bb55-4f81-8db6-f40d7a82383e",
   "metadata": {},
   "source": [
    "'event_click' - 0 - no klick, 1 - click\n",
    "'publisher_place_id', 'publisher_place_type', 'publisher_website' - info about publisher\n",
    "'ad_id' - advertising campaign number\n",
    "'EventDate', 'date' - event time\n",
    "'ci_image_cat', 'ci_text_cat' - information about image categories and text, context of web pages where ads are displayed\n",
    "'visitor_session_id', 'visitor_device', 'visitor_device_os', 'visitor_browser' - information about the user and his devices\n",
    "'visitor_country', 'visitor_region' - user geolocation"
   ]
  },
  {
   "cell_type": "code",
   "execution_count": 3,
   "id": "c12875d4-e035-4d5e-ba5c-467189a4b821",
   "metadata": {},
   "outputs": [
    {
     "data": {
      "text/html": [
       "<div>\n",
       "<style scoped>\n",
       "    .dataframe tbody tr th:only-of-type {\n",
       "        vertical-align: middle;\n",
       "    }\n",
       "\n",
       "    .dataframe tbody tr th {\n",
       "        vertical-align: top;\n",
       "    }\n",
       "\n",
       "    .dataframe thead th {\n",
       "        text-align: right;\n",
       "    }\n",
       "</style>\n",
       "<table border=\"1\" class=\"dataframe\">\n",
       "  <thead>\n",
       "    <tr style=\"text-align: right;\">\n",
       "      <th></th>\n",
       "      <th>event_click</th>\n",
       "      <th>ad_id</th>\n",
       "      <th>publisher_place_type</th>\n",
       "      <th>publisher_website</th>\n",
       "      <th>ci_image_cat</th>\n",
       "      <th>ci_text_cat</th>\n",
       "      <th>publisher_place_group_type</th>\n",
       "      <th>EventDate</th>\n",
       "      <th>date</th>\n",
       "      <th>visitor_session_id</th>\n",
       "      <th>visitor_device</th>\n",
       "      <th>visitor_device_os</th>\n",
       "      <th>visitor_country</th>\n",
       "      <th>visitor_region</th>\n",
       "      <th>visitor_browser</th>\n",
       "      <th>publisher_place_id</th>\n",
       "    </tr>\n",
       "  </thead>\n",
       "  <tbody>\n",
       "    <tr>\n",
       "      <th>0</th>\n",
       "      <td>0</td>\n",
       "      <td>1693485468</td>\n",
       "      <td>Just Banner</td>\n",
       "      <td>popcornnews.ru</td>\n",
       "      <td>['0']</td>\n",
       "      <td>['11']</td>\n",
       "      <td>Just Banner</td>\n",
       "      <td>2023-08-31</td>\n",
       "      <td>2023-08-31 17:03:02+03:00</td>\n",
       "      <td>2890dd55-0a37-4975-af15-e3c54fc4c0f2</td>\n",
       "      <td>Mobile</td>\n",
       "      <td>iOS</td>\n",
       "      <td>RU</td>\n",
       "      <td>Bryanskaya oblast</td>\n",
       "      <td>Safari</td>\n",
       "      <td>635bc1911e2b546885a37ec3</td>\n",
       "    </tr>\n",
       "    <tr>\n",
       "      <th>1</th>\n",
       "      <td>0</td>\n",
       "      <td>1691583125</td>\n",
       "      <td>Just Banner</td>\n",
       "      <td>yaplakal.com</td>\n",
       "      <td>['0']</td>\n",
       "      <td>['11']</td>\n",
       "      <td>Just Banner</td>\n",
       "      <td>2023-08-30</td>\n",
       "      <td>2023-08-30 00:04:40+03:00</td>\n",
       "      <td>c342ad4f-0ad7-4638-a0ce-d916152a59f9</td>\n",
       "      <td>Desktop</td>\n",
       "      <td>Windows</td>\n",
       "      <td>RU</td>\n",
       "      <td>Moskovskaya oblast</td>\n",
       "      <td>Chrome</td>\n",
       "      <td>63fddeae6edefd2517e8cc2f</td>\n",
       "    </tr>\n",
       "    <tr>\n",
       "      <th>2</th>\n",
       "      <td>0</td>\n",
       "      <td>1692811008</td>\n",
       "      <td>Just Banner</td>\n",
       "      <td>vokrug.tv</td>\n",
       "      <td>['0']</td>\n",
       "      <td>['11']</td>\n",
       "      <td>Just Banner</td>\n",
       "      <td>2023-08-30</td>\n",
       "      <td>2023-08-30 07:32:19+03:00</td>\n",
       "      <td>8bb0fd0f-ac3c-40af-8910-8e45ace4438f</td>\n",
       "      <td>Mobile</td>\n",
       "      <td>Android</td>\n",
       "      <td>RU</td>\n",
       "      <td>Moskva</td>\n",
       "      <td>Chrome</td>\n",
       "      <td>635905586bbec9d50a81aa02</td>\n",
       "    </tr>\n",
       "    <tr>\n",
       "      <th>3</th>\n",
       "      <td>0</td>\n",
       "      <td>1693479582</td>\n",
       "      <td>Just Banner</td>\n",
       "      <td>starhit.ru</td>\n",
       "      <td>['0']</td>\n",
       "      <td>['11']</td>\n",
       "      <td>Just Banner</td>\n",
       "      <td>2023-08-31</td>\n",
       "      <td>2023-08-31 14:49:08+03:00</td>\n",
       "      <td>4c3c8956-2614-4414-ba5c-4afe68e4597c</td>\n",
       "      <td>Mobile</td>\n",
       "      <td>iOS</td>\n",
       "      <td>RU</td>\n",
       "      <td>Tatarstan Respublika</td>\n",
       "      <td>Safari</td>\n",
       "      <td>633d43a60601f31045e72a7d</td>\n",
       "    </tr>\n",
       "    <tr>\n",
       "      <th>4</th>\n",
       "      <td>0</td>\n",
       "      <td>1690896125</td>\n",
       "      <td>Just Banner</td>\n",
       "      <td>kinoafisha.info</td>\n",
       "      <td>['0']</td>\n",
       "      <td>['1', '11', '211']</td>\n",
       "      <td>Just Banner</td>\n",
       "      <td>2023-08-30</td>\n",
       "      <td>2023-08-30 03:44:20+03:00</td>\n",
       "      <td>47abb888-6742-4cef-ba73-ac6a0afeb666</td>\n",
       "      <td>Mobile</td>\n",
       "      <td>Android</td>\n",
       "      <td>RU</td>\n",
       "      <td>YamaloNenetskiy avtonomnyy okrug</td>\n",
       "      <td>Chrome</td>\n",
       "      <td>6359204c1e2b546885a37e83</td>\n",
       "    </tr>\n",
       "    <tr>\n",
       "      <th>...</th>\n",
       "      <td>...</td>\n",
       "      <td>...</td>\n",
       "      <td>...</td>\n",
       "      <td>...</td>\n",
       "      <td>...</td>\n",
       "      <td>...</td>\n",
       "      <td>...</td>\n",
       "      <td>...</td>\n",
       "      <td>...</td>\n",
       "      <td>...</td>\n",
       "      <td>...</td>\n",
       "      <td>...</td>\n",
       "      <td>...</td>\n",
       "      <td>...</td>\n",
       "      <td>...</td>\n",
       "      <td>...</td>\n",
       "    </tr>\n",
       "    <tr>\n",
       "      <th>94939</th>\n",
       "      <td>0</td>\n",
       "      <td>1693555201</td>\n",
       "      <td>Just Banner</td>\n",
       "      <td>el-montage.ru</td>\n",
       "      <td>['0']</td>\n",
       "      <td>['11']</td>\n",
       "      <td>Just Banner</td>\n",
       "      <td>2023-09-01</td>\n",
       "      <td>2023-09-01 16:39:52+03:00</td>\n",
       "      <td>f3fe2d01-5045-47b7-9486-4d80e5b3e5b6</td>\n",
       "      <td>Mobile</td>\n",
       "      <td>Android</td>\n",
       "      <td>RU</td>\n",
       "      <td>Altayskiy kray</td>\n",
       "      <td>Chrome</td>\n",
       "      <td>646b4b54475a23c8614fc02c</td>\n",
       "    </tr>\n",
       "    <tr>\n",
       "      <th>94940</th>\n",
       "      <td>0</td>\n",
       "      <td>1693308334</td>\n",
       "      <td>Just Banner</td>\n",
       "      <td>kinoafisha.info</td>\n",
       "      <td>['0']</td>\n",
       "      <td>['1', '13']</td>\n",
       "      <td>Just Banner</td>\n",
       "      <td>2023-08-30</td>\n",
       "      <td>2023-08-30 23:49:16+03:00</td>\n",
       "      <td>9a27a14a-025b-4f2e-8837-abdbfb402e5b</td>\n",
       "      <td>Mobile</td>\n",
       "      <td>Android</td>\n",
       "      <td>RU</td>\n",
       "      <td>Krasnodarskiy kray</td>\n",
       "      <td>Chrome</td>\n",
       "      <td>635bbdfd1e2b546885a37ebb</td>\n",
       "    </tr>\n",
       "    <tr>\n",
       "      <th>94941</th>\n",
       "      <td>0</td>\n",
       "      <td>1692022985</td>\n",
       "      <td>Just Banner</td>\n",
       "      <td>el-montage.ru</td>\n",
       "      <td>['0']</td>\n",
       "      <td>['11']</td>\n",
       "      <td>Just Banner</td>\n",
       "      <td>2023-08-30</td>\n",
       "      <td>2023-08-30 07:32:12+03:00</td>\n",
       "      <td>80691311-64d7-4f30-9526-23decd34f65e</td>\n",
       "      <td>Mobile</td>\n",
       "      <td>Android</td>\n",
       "      <td>RU</td>\n",
       "      <td>Samarskaya oblast</td>\n",
       "      <td>Chrome</td>\n",
       "      <td>646b4b54475a23c8614fc02c</td>\n",
       "    </tr>\n",
       "    <tr>\n",
       "      <th>94942</th>\n",
       "      <td>1</td>\n",
       "      <td>1693151817</td>\n",
       "      <td>Just Banner</td>\n",
       "      <td>7days.ru</td>\n",
       "      <td>['0']</td>\n",
       "      <td>['11']</td>\n",
       "      <td>Just Banner</td>\n",
       "      <td>2023-09-02</td>\n",
       "      <td>2023-09-02 20:49:27+03:00</td>\n",
       "      <td>febddaf6-1416-4811-973c-45c738233ca9</td>\n",
       "      <td>Mobile</td>\n",
       "      <td>Android</td>\n",
       "      <td>RU</td>\n",
       "      <td>SanktPeterburg</td>\n",
       "      <td>Chrome</td>\n",
       "      <td>63590ab66bbec9d50a81aa08</td>\n",
       "    </tr>\n",
       "    <tr>\n",
       "      <th>94943</th>\n",
       "      <td>0</td>\n",
       "      <td>1692118365</td>\n",
       "      <td>Just Banner</td>\n",
       "      <td>kino-teatr.ru</td>\n",
       "      <td>['0']</td>\n",
       "      <td>['11', '213']</td>\n",
       "      <td>Just Banner</td>\n",
       "      <td>2023-08-31</td>\n",
       "      <td>2023-08-31 11:39:24+03:00</td>\n",
       "      <td>78370ba3-6f07-4234-9afa-77f8029ec1d0</td>\n",
       "      <td>Mobile</td>\n",
       "      <td>Android</td>\n",
       "      <td>RU</td>\n",
       "      <td>Krasnoyarskiy kray</td>\n",
       "      <td>Chrome</td>\n",
       "      <td>64d1ea22eba230053d6bc04f</td>\n",
       "    </tr>\n",
       "  </tbody>\n",
       "</table>\n",
       "<p>94944 rows × 16 columns</p>\n",
       "</div>"
      ],
      "text/plain": [
       "       event_click       ad_id publisher_place_type publisher_website  \\\n",
       "0                0  1693485468          Just Banner    popcornnews.ru   \n",
       "1                0  1691583125          Just Banner      yaplakal.com   \n",
       "2                0  1692811008          Just Banner         vokrug.tv   \n",
       "3                0  1693479582          Just Banner        starhit.ru   \n",
       "4                0  1690896125          Just Banner   kinoafisha.info   \n",
       "...            ...         ...                  ...               ...   \n",
       "94939            0  1693555201          Just Banner     el-montage.ru   \n",
       "94940            0  1693308334          Just Banner   kinoafisha.info   \n",
       "94941            0  1692022985          Just Banner     el-montage.ru   \n",
       "94942            1  1693151817          Just Banner          7days.ru   \n",
       "94943            0  1692118365          Just Banner     kino-teatr.ru   \n",
       "\n",
       "      ci_image_cat         ci_text_cat publisher_place_group_type   EventDate  \\\n",
       "0            ['0']              ['11']                Just Banner  2023-08-31   \n",
       "1            ['0']              ['11']                Just Banner  2023-08-30   \n",
       "2            ['0']              ['11']                Just Banner  2023-08-30   \n",
       "3            ['0']              ['11']                Just Banner  2023-08-31   \n",
       "4            ['0']  ['1', '11', '211']                Just Banner  2023-08-30   \n",
       "...            ...                 ...                        ...         ...   \n",
       "94939        ['0']              ['11']                Just Banner  2023-09-01   \n",
       "94940        ['0']         ['1', '13']                Just Banner  2023-08-30   \n",
       "94941        ['0']              ['11']                Just Banner  2023-08-30   \n",
       "94942        ['0']              ['11']                Just Banner  2023-09-02   \n",
       "94943        ['0']       ['11', '213']                Just Banner  2023-08-31   \n",
       "\n",
       "                            date                    visitor_session_id  \\\n",
       "0      2023-08-31 17:03:02+03:00  2890dd55-0a37-4975-af15-e3c54fc4c0f2   \n",
       "1      2023-08-30 00:04:40+03:00  c342ad4f-0ad7-4638-a0ce-d916152a59f9   \n",
       "2      2023-08-30 07:32:19+03:00  8bb0fd0f-ac3c-40af-8910-8e45ace4438f   \n",
       "3      2023-08-31 14:49:08+03:00  4c3c8956-2614-4414-ba5c-4afe68e4597c   \n",
       "4      2023-08-30 03:44:20+03:00  47abb888-6742-4cef-ba73-ac6a0afeb666   \n",
       "...                          ...                                   ...   \n",
       "94939  2023-09-01 16:39:52+03:00  f3fe2d01-5045-47b7-9486-4d80e5b3e5b6   \n",
       "94940  2023-08-30 23:49:16+03:00  9a27a14a-025b-4f2e-8837-abdbfb402e5b   \n",
       "94941  2023-08-30 07:32:12+03:00  80691311-64d7-4f30-9526-23decd34f65e   \n",
       "94942  2023-09-02 20:49:27+03:00  febddaf6-1416-4811-973c-45c738233ca9   \n",
       "94943  2023-08-31 11:39:24+03:00  78370ba3-6f07-4234-9afa-77f8029ec1d0   \n",
       "\n",
       "      visitor_device visitor_device_os visitor_country  \\\n",
       "0             Mobile               iOS              RU   \n",
       "1            Desktop           Windows              RU   \n",
       "2             Mobile           Android              RU   \n",
       "3             Mobile               iOS              RU   \n",
       "4             Mobile           Android              RU   \n",
       "...              ...               ...             ...   \n",
       "94939         Mobile           Android              RU   \n",
       "94940         Mobile           Android              RU   \n",
       "94941         Mobile           Android              RU   \n",
       "94942         Mobile           Android              RU   \n",
       "94943         Mobile           Android              RU   \n",
       "\n",
       "                         visitor_region visitor_browser  \\\n",
       "0                     Bryanskaya oblast          Safari   \n",
       "1                    Moskovskaya oblast          Chrome   \n",
       "2                                Moskva          Chrome   \n",
       "3                  Tatarstan Respublika          Safari   \n",
       "4      YamaloNenetskiy avtonomnyy okrug          Chrome   \n",
       "...                                 ...             ...   \n",
       "94939                    Altayskiy kray          Chrome   \n",
       "94940                Krasnodarskiy kray          Chrome   \n",
       "94941                 Samarskaya oblast          Chrome   \n",
       "94942                    SanktPeterburg          Chrome   \n",
       "94943                Krasnoyarskiy kray          Chrome   \n",
       "\n",
       "             publisher_place_id  \n",
       "0      635bc1911e2b546885a37ec3  \n",
       "1      63fddeae6edefd2517e8cc2f  \n",
       "2      635905586bbec9d50a81aa02  \n",
       "3      633d43a60601f31045e72a7d  \n",
       "4      6359204c1e2b546885a37e83  \n",
       "...                         ...  \n",
       "94939  646b4b54475a23c8614fc02c  \n",
       "94940  635bbdfd1e2b546885a37ebb  \n",
       "94941  646b4b54475a23c8614fc02c  \n",
       "94942  63590ab66bbec9d50a81aa08  \n",
       "94943  64d1ea22eba230053d6bc04f  \n",
       "\n",
       "[94944 rows x 16 columns]"
      ]
     },
     "execution_count": 3,
     "metadata": {},
     "output_type": "execute_result"
    }
   ],
   "source": [
    "df"
   ]
  },
  {
   "cell_type": "markdown",
   "id": "c522476e-2c02-47fb-8339-b4cae03ec43a",
   "metadata": {},
   "source": [
    "## EDA"
   ]
  },
  {
   "cell_type": "code",
   "execution_count": 4,
   "id": "db22d05f-6cb8-4555-90f6-1c084d90dc3b",
   "metadata": {},
   "outputs": [
    {
     "name": "stdout",
     "output_type": "stream",
     "text": [
      "<class 'pandas.core.frame.DataFrame'>\n",
      "RangeIndex: 94944 entries, 0 to 94943\n",
      "Data columns (total 16 columns):\n",
      " #   Column                      Non-Null Count  Dtype \n",
      "---  ------                      --------------  ----- \n",
      " 0   event_click                 94944 non-null  int64 \n",
      " 1   ad_id                       94944 non-null  int64 \n",
      " 2   publisher_place_type        94944 non-null  object\n",
      " 3   publisher_website           94944 non-null  object\n",
      " 4   ci_image_cat                94944 non-null  object\n",
      " 5   ci_text_cat                 94944 non-null  object\n",
      " 6   publisher_place_group_type  94944 non-null  object\n",
      " 7   EventDate                   94944 non-null  object\n",
      " 8   date                        94944 non-null  object\n",
      " 9   visitor_session_id          94944 non-null  object\n",
      " 10  visitor_device              94944 non-null  object\n",
      " 11  visitor_device_os           94944 non-null  object\n",
      " 12  visitor_country             94944 non-null  object\n",
      " 13  visitor_region              94930 non-null  object\n",
      " 14  visitor_browser             94944 non-null  object\n",
      " 15  publisher_place_id          94944 non-null  object\n",
      "dtypes: int64(2), object(14)\n",
      "memory usage: 11.6+ MB\n"
     ]
    }
   ],
   "source": [
    "df.info()"
   ]
  },
  {
   "cell_type": "code",
   "execution_count": 5,
   "id": "a3237a5f-3225-4557-bf86-7cb8c90e8d0f",
   "metadata": {},
   "outputs": [],
   "source": [
    "df['date'] = pd.to_datetime(df['date'])"
   ]
  },
  {
   "cell_type": "code",
   "execution_count": 6,
   "id": "b39be67f-aca6-44d0-8687-fdec94c2493a",
   "metadata": {},
   "outputs": [
    {
     "data": {
      "text/plain": [
       "event_click                    0\n",
       "ad_id                          0\n",
       "publisher_place_type           0\n",
       "publisher_website              0\n",
       "ci_image_cat                   0\n",
       "ci_text_cat                    0\n",
       "publisher_place_group_type     0\n",
       "EventDate                      0\n",
       "date                           0\n",
       "visitor_session_id             0\n",
       "visitor_device                 0\n",
       "visitor_device_os              0\n",
       "visitor_country                0\n",
       "visitor_region                14\n",
       "visitor_browser                0\n",
       "publisher_place_id             0\n",
       "dtype: int64"
      ]
     },
     "execution_count": 6,
     "metadata": {},
     "output_type": "execute_result"
    }
   ],
   "source": [
    "df.isnull().sum()"
   ]
  },
  {
   "cell_type": "markdown",
   "id": "9b08d1b0-f204-4db2-bbab-f9ccdaa0e313",
   "metadata": {},
   "source": [
    "#### there are empty rows in the column visitor_region. let's fill them with the most common region - Moskovskaya oblast"
   ]
  },
  {
   "cell_type": "code",
   "execution_count": 7,
   "id": "a7fd53a1-1d9e-476d-ac83-390c4d1fab02",
   "metadata": {},
   "outputs": [
    {
     "data": {
      "text/plain": [
       "visitor_region\n",
       "Moskovskaya oblast            9510\n",
       "Sverdlovskaya oblast          5266\n",
       "Krasnodarskiy kray            5263\n",
       "SanktPeterburg                4263\n",
       "Moskva                        4009\n",
       "                              ... \n",
       "Altay Respublika                44\n",
       "Tyva Respublika                 38\n",
       "Magadanskaya oblast             34\n",
       "Ingushetiya Respublika          16\n",
       "Nenetskiy avtonomnyy okrug      11\n",
       "Name: count, Length: 83, dtype: int64"
      ]
     },
     "execution_count": 7,
     "metadata": {},
     "output_type": "execute_result"
    }
   ],
   "source": [
    "df.visitor_region.value_counts() "
   ]
  },
  {
   "cell_type": "code",
   "execution_count": 8,
   "id": "847ec50d-b67c-4fd3-afde-3c7781c3a8a9",
   "metadata": {},
   "outputs": [],
   "source": [
    "values = {\"visitor_region\": \"Moskovskaya oblast\"}\n",
    "df = df.fillna(value=values)"
   ]
  },
  {
   "cell_type": "code",
   "execution_count": 9,
   "id": "34a02279-e84b-445c-b1e7-c8c5b3de38ff",
   "metadata": {},
   "outputs": [
    {
     "data": {
      "text/plain": [
       "0"
      ]
     },
     "execution_count": 9,
     "metadata": {},
     "output_type": "execute_result"
    }
   ],
   "source": [
    "df.visitor_region.isnull().sum()"
   ]
  },
  {
   "cell_type": "markdown",
   "id": "4726cc65-d9a6-49e4-b4e6-f680a40bc053",
   "metadata": {},
   "source": [
    "#### look at the distribution of clicks"
   ]
  },
  {
   "cell_type": "code",
   "execution_count": 10,
   "id": "a725c6a6-15f2-4d73-9cc3-56206bed46a8",
   "metadata": {},
   "outputs": [
    {
     "name": "stdout",
     "output_type": "stream",
     "text": [
      "event_click\n",
      "0    79120\n",
      "1    15824\n",
      "Name: count, dtype: int64\n"
     ]
    },
    {
     "data": {
      "image/png": "[encoded data removed]",
      "text/plain": [
       "<Figure size 640x480 with 1 Axes>"
      ]
     },
     "metadata": {},
     "output_type": "display_data"
    }
   ],
   "source": [
    "print(df.event_click.value_counts())\n",
    "plt.figure()\n",
    "sns.countplot(x='event_click', data=df)\n",
    "plt.show()"
   ]
  },
  {
   "cell_type": "markdown",
   "id": "325c60ce-0414-4b86-b9b8-3f6f3ee706f1",
   "metadata": {},
   "source": [
    "#### data is unbalanced, so we won't use the accuracy metric in the evaluation"
   ]
  },
  {
   "cell_type": "code",
   "execution_count": 11,
   "id": "29783a33-6676-441c-8ee3-fb1881a6de87",
   "metadata": {},
   "outputs": [
    {
     "name": "stdout",
     "output_type": "stream",
     "text": [
      "113\n"
     ]
    },
    {
     "data": {
      "text/plain": [
       "ad_id\n",
       "1693555201    7762\n",
       "1693485468    5473\n",
       "1692032000    3915\n",
       "1692956708    3567\n",
       "1693316580    3142\n",
       "              ... \n",
       "1693564479       1\n",
       "1692201987       1\n",
       "1693487419       1\n",
       "1693582832       1\n",
       "1693238128       1\n",
       "Name: count, Length: 113, dtype: int64"
      ]
     },
     "execution_count": 11,
     "metadata": {},
     "output_type": "execute_result"
    }
   ],
   "source": [
    "print(len(df.ad_id.unique()))  \n",
    "df.ad_id.value_counts()"
   ]
  },
  {
   "cell_type": "markdown",
   "id": "d1342548-0e3c-4253-ab5a-44bf8f88c9ba",
   "metadata": {},
   "source": [
    "#### We will not use the ad_id column, since it does not affect the separability of the data"
   ]
  },
  {
   "cell_type": "code",
   "execution_count": 12,
   "id": "985d35b5-6468-4ddd-b146-5b4b15e96f0f",
   "metadata": {},
   "outputs": [
    {
     "data": {
      "text/plain": [
       "publisher_place_type\n",
       "Just Banner               94943\n",
       "Astra Native Resizable        1\n",
       "Name: count, dtype: int64"
      ]
     },
     "execution_count": 12,
     "metadata": {},
     "output_type": "execute_result"
    }
   ],
   "source": [
    "df.publisher_place_type.value_counts() #delete this column"
   ]
  },
  {
   "cell_type": "markdown",
   "id": "a1c4f349-7a88-4da7-a986-1d757557a142",
   "metadata": {},
   "source": [
    "### publisher_place_type will also not be used, since there are only 2 unique values in the column, and one of them is in a single copy. the column does not carry important information"
   ]
  },
  {
   "cell_type": "markdown",
   "id": "cce6df13-0225-49f4-9794-4bfb3da6d161",
   "metadata": {},
   "source": [
    "### information on the number of unique publisher websites (there are 320 of them):"
   ]
  },
  {
   "cell_type": "code",
   "execution_count": 13,
   "id": "484137f3-71a0-4e58-8827-696dd02f50b9",
   "metadata": {},
   "outputs": [
    {
     "data": {
      "text/plain": [
       "publisher_website\n",
       "yaplakal.com       13396\n",
       "fotostrana.ru       7992\n",
       "sportbox.ru         6584\n",
       "kinoafisha.info     6424\n",
       "7days.ru            5542\n",
       "                   ...  \n",
       "turktv.me              1\n",
       "flarix.tv              1\n",
       "animego.today          1\n",
       "turkcinema.one         1\n",
       "rserials.online        1\n",
       "Name: count, Length: 320, dtype: int64"
      ]
     },
     "execution_count": 13,
     "metadata": {},
     "output_type": "execute_result"
    }
   ],
   "source": [
    "df.publisher_website.value_counts()"
   ]
  },
  {
   "cell_type": "code",
   "execution_count": 14,
   "id": "13d95f0f-e1c8-438f-b203-f4e614ab965e",
   "metadata": {},
   "outputs": [
    {
     "data": {
      "text/plain": [
       "ci_image_cat\n",
       "['0']    94944\n",
       "Name: count, dtype: int64"
      ]
     },
     "execution_count": 14,
     "metadata": {},
     "output_type": "execute_result"
    }
   ],
   "source": [
    "df.ci_image_cat.value_counts()"
   ]
  },
  {
   "cell_type": "markdown",
   "id": "64bfa473-935a-4947-a7c6-83fdcebcf288",
   "metadata": {},
   "source": [
    "#### the image category information is also useless as it contains only one unique element"
   ]
  },
  {
   "cell_type": "code",
   "execution_count": 15,
   "id": "ae59268d-c31a-48ff-bdd3-57a2c34c2b54",
   "metadata": {},
   "outputs": [
    {
     "data": {
      "text/plain": [
       "array([\"['11']\", \"['1', '11', '211']\", \"['1', '11']\", \"['1', '10']\",\n",
       "       \"['1', '13']\", \"['11', '211']\", \"['11', '213']\",\n",
       "       \"['2200', '11', '220']\", \"['1', '11', '220']\",\n",
       "       \"['1', '10', '211']\", \"['2042', '11', '204']\",\n",
       "       \"['2000', '11', '200']\", \"['11', '220', '22015']\",\n",
       "       \"['200', '1', '11', '2006']\", \"['11', '220']\",\n",
       "       \"['1', '11', '213']\", \"['2200', '1', '11', '220']\",\n",
       "       \"['11', '220', '2206']\", \"['1', '11', '204']\",\n",
       "       \"['11', '2060', '206']\", \"['11', '3']\", \"['1', '10', '213']\",\n",
       "       \"['11', '204']\", \"['1', '10', '220', '22015']\",\n",
       "       \"['1', '11', '206']\", \"['200', '11']\", \"['1', '10', '220']\",\n",
       "       \"['1', '11', '2060', '206']\", \"['1', '11', '220', '22015']\",\n",
       "       \"['200', '11', '2000']\", \"['2000', '1', '11', '200']\",\n",
       "       \"['11', '220', '22023']\", \"['200', '1', '11']\",\n",
       "       \"['200', '1', '11', '2004']\", \"['1', '11', '220', '2206']\",\n",
       "       \"['1', '21700', '21701', '2120', '201', '11', '206', '2190', '207', '212', '213', '217', '2170', '219']\",\n",
       "       \"['1', '210', '11']\", \"['1', '21001', '11', '210', '2100']\",\n",
       "       \"['200', '11', '2006']\", \"['22016', '1', '11', '220']\",\n",
       "       \"['1', '11', '220', '22023']\",\n",
       "       \"['1', '21000', '11', '210', '2100']\", \"['200', '11', '2003']\"],\n",
       "      dtype=object)"
      ]
     },
     "execution_count": 15,
     "metadata": {},
     "output_type": "execute_result"
    }
   ],
   "source": [
    "df.ci_text_cat.unique()"
   ]
  },
  {
   "cell_type": "markdown",
   "id": "c45e33e7-7a9b-4653-a13a-3679cbd73472",
   "metadata": {},
   "source": [
    "#### information about text categories is the main one in the dataset"
   ]
  },
  {
   "cell_type": "code",
   "execution_count": 16,
   "id": "579a50b2-63cb-4225-bd13-05fe5cd4f56f",
   "metadata": {},
   "outputs": [
    {
     "data": {
      "text/plain": [
       "publisher_place_group_type\n",
       "Just Banner    94944\n",
       "Name: count, dtype: int64"
      ]
     },
     "execution_count": 16,
     "metadata": {},
     "output_type": "execute_result"
    }
   ],
   "source": [
    "df.publisher_place_group_type.value_counts()  "
   ]
  },
  {
   "cell_type": "markdown",
   "id": "ae95958a-bc7b-42e8-a5f5-5fbe9bbef901",
   "metadata": {},
   "source": [
    "#### publisher_place_group_type is also useless - only one signle value"
   ]
  },
  {
   "cell_type": "code",
   "execution_count": 17,
   "id": "bf906803-c201-4c35-87f3-911ea9de88f3",
   "metadata": {},
   "outputs": [
    {
     "data": {
      "text/plain": [
       "visitor_session_id\n",
       "1d2a3c44-835c-4a88-b5ef-3d875dece960    4\n",
       "a483da4d-9199-49a0-b336-881e045722d8    4\n",
       "0e37917d-0893-47ad-941c-75373a9ee523    3\n",
       "d3d172b0-035c-45af-bde2-c1cd62861afd    3\n",
       "13adbfc3-c655-458e-8b08-3f5747fc4600    3\n",
       "                                       ..\n",
       "814079ab-fcdc-418a-aca3-9980bd5f47d7    1\n",
       "fa56aab2-d8d8-4a86-abac-71470889a996    1\n",
       "259fcb41-aba0-4c20-83a9-b887bbf1dc50    1\n",
       "dcd2d70a-947f-477a-9a5f-c26d24b5f2ca    1\n",
       "78370ba3-6f07-4234-9afa-77f8029ec1d0    1\n",
       "Name: count, Length: 94853, dtype: int64"
      ]
     },
     "execution_count": 17,
     "metadata": {},
     "output_type": "execute_result"
    }
   ],
   "source": [
    "df.visitor_session_id.value_counts()"
   ]
  },
  {
   "cell_type": "code",
   "execution_count": 18,
   "id": "66968d24-c18c-4e67-b3bf-3d09f72d4689",
   "metadata": {},
   "outputs": [
    {
     "name": "stdout",
     "output_type": "stream",
     "text": [
      "979\n"
     ]
    },
    {
     "data": {
      "text/plain": [
       "publisher_place_id\n",
       "64ba2897eba230053d6bbfde    6684\n",
       "63590ab66bbec9d50a81aa08    5542\n",
       "63fddf966edefd2517e8cc35    4127\n",
       "635bbdfd1e2b546885a37ebb    3909\n",
       "64705d537956e2692add2c8b    3458\n",
       "                            ... \n",
       "63776881d43c1010d49d048b       1\n",
       "633c34f20601f31045e72a70       1\n",
       "635a3cd61e2b546885a37ea7       1\n",
       "64819d428dc2ca0395d87711       1\n",
       "63fdddd56edefd2517e8cc2a       1\n",
       "Name: count, Length: 979, dtype: int64"
      ]
     },
     "execution_count": 18,
     "metadata": {},
     "output_type": "execute_result"
    }
   ],
   "source": [
    "print(len(df.publisher_place_id.unique())) \n",
    "df.publisher_place_id.value_counts() "
   ]
  },
  {
   "cell_type": "markdown",
   "id": "ea8f80ce-b5cf-4db7-8af6-ec9608c3ab71",
   "metadata": {},
   "source": [
    "#### visitor_session_id and publisher_place_id does not contain important information"
   ]
  },
  {
   "cell_type": "code",
   "execution_count": 19,
   "id": "16692271-abfc-47c0-97da-a33756207b2c",
   "metadata": {},
   "outputs": [
    {
     "data": {
      "text/plain": [
       "visitor_device\n",
       "Mobile     84914\n",
       "Desktop     9582\n",
       "Tablet       448\n",
       "Name: count, dtype: int64"
      ]
     },
     "execution_count": 19,
     "metadata": {},
     "output_type": "execute_result"
    }
   ],
   "source": [
    "df.visitor_device.value_counts()"
   ]
  },
  {
   "cell_type": "code",
   "execution_count": 20,
   "id": "0a1fd1a6-bae0-4238-876a-61b70f08d1d4",
   "metadata": {},
   "outputs": [
    {
     "data": {
      "text/plain": [
       "visitor_device_os\n",
       "Android     72132\n",
       "iOS         13230\n",
       "Windows      9029\n",
       "Linux         281\n",
       "macOS         271\n",
       "ChromeOS        1\n",
       "Name: count, dtype: int64"
      ]
     },
     "execution_count": 20,
     "metadata": {},
     "output_type": "execute_result"
    }
   ],
   "source": [
    "df.visitor_device_os.value_counts()"
   ]
  },
  {
   "cell_type": "code",
   "execution_count": 21,
   "id": "a4bafbeb-7311-4fa6-a06d-aeea40a5fcae",
   "metadata": {},
   "outputs": [
    {
     "data": {
      "text/plain": [
       "visitor_country\n",
       "RU    94944\n",
       "Name: count, dtype: int64"
      ]
     },
     "execution_count": 21,
     "metadata": {},
     "output_type": "execute_result"
    }
   ],
   "source": [
    "df.visitor_country.value_counts() "
   ]
  },
  {
   "cell_type": "markdown",
   "id": "ed3f5c65-fa5a-4bf5-90ff-6fe7fc36cfbb",
   "metadata": {},
   "source": [
    "#### country onle one - delete info"
   ]
  },
  {
   "cell_type": "code",
   "execution_count": 22,
   "id": "cab033c9-709a-436a-b4d0-41f03bf61cb8",
   "metadata": {},
   "outputs": [
    {
     "data": {
      "text/plain": [
       "visitor_browser\n",
       "Chrome              74458\n",
       "Safari              12467\n",
       "YaBrowser            3002\n",
       "Samsung Browser      2113\n",
       "Opera                1381\n",
       "Edge                 1018\n",
       "Huawei Browser        352\n",
       "iPhone                 31\n",
       "[Pinterest             31\n",
       "Opera Touch            28\n",
       "Atom                   18\n",
       "[FBAN                  15\n",
       "Firefox                10\n",
       "XiaoMi                 10\n",
       "SberBrowser             3\n",
       "iPad                    2\n",
       "SmartTV                 2\n",
       "SputnikBrowser          1\n",
       "FSWebApp                1\n",
       "Elements Browser        1\n",
       "Name: count, dtype: int64"
      ]
     },
     "execution_count": 22,
     "metadata": {},
     "output_type": "execute_result"
    }
   ],
   "source": [
    "df.visitor_browser.value_counts()"
   ]
  },
  {
   "cell_type": "markdown",
   "id": "d101a72a-a52c-4013-bcbc-ae5ab9042e3d",
   "metadata": {},
   "source": [
    "#### remove useless columns:"
   ]
  },
  {
   "cell_type": "code",
   "execution_count": 23,
   "id": "ce2eeb02-44c6-474f-a629-8a045469cfd5",
   "metadata": {},
   "outputs": [],
   "source": [
    "DF = df.drop(columns=['ad_id','publisher_place_type','ci_image_cat', 'publisher_place_group_type',\n",
    "       'visitor_session_id', 'visitor_country','publisher_place_id','EventDate','date'],axis=1)"
   ]
  },
  {
   "cell_type": "code",
   "execution_count": 24,
   "id": "0941ad5f-9ed6-47ba-9260-24498343c001",
   "metadata": {},
   "outputs": [
    {
     "data": {
      "text/html": [
       "<div>\n",
       "<style scoped>\n",
       "    .dataframe tbody tr th:only-of-type {\n",
       "        vertical-align: middle;\n",
       "    }\n",
       "\n",
       "    .dataframe tbody tr th {\n",
       "        vertical-align: top;\n",
       "    }\n",
       "\n",
       "    .dataframe thead th {\n",
       "        text-align: right;\n",
       "    }\n",
       "</style>\n",
       "<table border=\"1\" class=\"dataframe\">\n",
       "  <thead>\n",
       "    <tr style=\"text-align: right;\">\n",
       "      <th></th>\n",
       "      <th>event_click</th>\n",
       "      <th>publisher_website</th>\n",
       "      <th>ci_text_cat</th>\n",
       "      <th>visitor_device</th>\n",
       "      <th>visitor_device_os</th>\n",
       "      <th>visitor_region</th>\n",
       "      <th>visitor_browser</th>\n",
       "    </tr>\n",
       "  </thead>\n",
       "  <tbody>\n",
       "    <tr>\n",
       "      <th>0</th>\n",
       "      <td>0</td>\n",
       "      <td>popcornnews.ru</td>\n",
       "      <td>['11']</td>\n",
       "      <td>Mobile</td>\n",
       "      <td>iOS</td>\n",
       "      <td>Bryanskaya oblast</td>\n",
       "      <td>Safari</td>\n",
       "    </tr>\n",
       "    <tr>\n",
       "      <th>1</th>\n",
       "      <td>0</td>\n",
       "      <td>yaplakal.com</td>\n",
       "      <td>['11']</td>\n",
       "      <td>Desktop</td>\n",
       "      <td>Windows</td>\n",
       "      <td>Moskovskaya oblast</td>\n",
       "      <td>Chrome</td>\n",
       "    </tr>\n",
       "    <tr>\n",
       "      <th>2</th>\n",
       "      <td>0</td>\n",
       "      <td>vokrug.tv</td>\n",
       "      <td>['11']</td>\n",
       "      <td>Mobile</td>\n",
       "      <td>Android</td>\n",
       "      <td>Moskva</td>\n",
       "      <td>Chrome</td>\n",
       "    </tr>\n",
       "    <tr>\n",
       "      <th>3</th>\n",
       "      <td>0</td>\n",
       "      <td>starhit.ru</td>\n",
       "      <td>['11']</td>\n",
       "      <td>Mobile</td>\n",
       "      <td>iOS</td>\n",
       "      <td>Tatarstan Respublika</td>\n",
       "      <td>Safari</td>\n",
       "    </tr>\n",
       "    <tr>\n",
       "      <th>4</th>\n",
       "      <td>0</td>\n",
       "      <td>kinoafisha.info</td>\n",
       "      <td>['1', '11', '211']</td>\n",
       "      <td>Mobile</td>\n",
       "      <td>Android</td>\n",
       "      <td>YamaloNenetskiy avtonomnyy okrug</td>\n",
       "      <td>Chrome</td>\n",
       "    </tr>\n",
       "    <tr>\n",
       "      <th>...</th>\n",
       "      <td>...</td>\n",
       "      <td>...</td>\n",
       "      <td>...</td>\n",
       "      <td>...</td>\n",
       "      <td>...</td>\n",
       "      <td>...</td>\n",
       "      <td>...</td>\n",
       "    </tr>\n",
       "    <tr>\n",
       "      <th>94939</th>\n",
       "      <td>0</td>\n",
       "      <td>el-montage.ru</td>\n",
       "      <td>['11']</td>\n",
       "      <td>Mobile</td>\n",
       "      <td>Android</td>\n",
       "      <td>Altayskiy kray</td>\n",
       "      <td>Chrome</td>\n",
       "    </tr>\n",
       "    <tr>\n",
       "      <th>94940</th>\n",
       "      <td>0</td>\n",
       "      <td>kinoafisha.info</td>\n",
       "      <td>['1', '13']</td>\n",
       "      <td>Mobile</td>\n",
       "      <td>Android</td>\n",
       "      <td>Krasnodarskiy kray</td>\n",
       "      <td>Chrome</td>\n",
       "    </tr>\n",
       "    <tr>\n",
       "      <th>94941</th>\n",
       "      <td>0</td>\n",
       "      <td>el-montage.ru</td>\n",
       "      <td>['11']</td>\n",
       "      <td>Mobile</td>\n",
       "      <td>Android</td>\n",
       "      <td>Samarskaya oblast</td>\n",
       "      <td>Chrome</td>\n",
       "    </tr>\n",
       "    <tr>\n",
       "      <th>94942</th>\n",
       "      <td>1</td>\n",
       "      <td>7days.ru</td>\n",
       "      <td>['11']</td>\n",
       "      <td>Mobile</td>\n",
       "      <td>Android</td>\n",
       "      <td>SanktPeterburg</td>\n",
       "      <td>Chrome</td>\n",
       "    </tr>\n",
       "    <tr>\n",
       "      <th>94943</th>\n",
       "      <td>0</td>\n",
       "      <td>kino-teatr.ru</td>\n",
       "      <td>['11', '213']</td>\n",
       "      <td>Mobile</td>\n",
       "      <td>Android</td>\n",
       "      <td>Krasnoyarskiy kray</td>\n",
       "      <td>Chrome</td>\n",
       "    </tr>\n",
       "  </tbody>\n",
       "</table>\n",
       "<p>94944 rows × 7 columns</p>\n",
       "</div>"
      ],
      "text/plain": [
       "       event_click publisher_website         ci_text_cat visitor_device  \\\n",
       "0                0    popcornnews.ru              ['11']         Mobile   \n",
       "1                0      yaplakal.com              ['11']        Desktop   \n",
       "2                0         vokrug.tv              ['11']         Mobile   \n",
       "3                0        starhit.ru              ['11']         Mobile   \n",
       "4                0   kinoafisha.info  ['1', '11', '211']         Mobile   \n",
       "...            ...               ...                 ...            ...   \n",
       "94939            0     el-montage.ru              ['11']         Mobile   \n",
       "94940            0   kinoafisha.info         ['1', '13']         Mobile   \n",
       "94941            0     el-montage.ru              ['11']         Mobile   \n",
       "94942            1          7days.ru              ['11']         Mobile   \n",
       "94943            0     kino-teatr.ru       ['11', '213']         Mobile   \n",
       "\n",
       "      visitor_device_os                    visitor_region visitor_browser  \n",
       "0                   iOS                 Bryanskaya oblast          Safari  \n",
       "1               Windows                Moskovskaya oblast          Chrome  \n",
       "2               Android                            Moskva          Chrome  \n",
       "3                   iOS              Tatarstan Respublika          Safari  \n",
       "4               Android  YamaloNenetskiy avtonomnyy okrug          Chrome  \n",
       "...                 ...                               ...             ...  \n",
       "94939           Android                    Altayskiy kray          Chrome  \n",
       "94940           Android                Krasnodarskiy kray          Chrome  \n",
       "94941           Android                 Samarskaya oblast          Chrome  \n",
       "94942           Android                    SanktPeterburg          Chrome  \n",
       "94943           Android                Krasnoyarskiy kray          Chrome  \n",
       "\n",
       "[94944 rows x 7 columns]"
      ]
     },
     "execution_count": 24,
     "metadata": {},
     "output_type": "execute_result"
    }
   ],
   "source": [
    "DF"
   ]
  },
  {
   "cell_type": "markdown",
   "id": "a6280353-8328-46ff-807b-da6bf7c5e700",
   "metadata": {},
   "source": [
    "#### add columns with day of the week and hour, since this information can be useful when predicting a click - whether the visitor is watching the ad on a weekday or a weekend, and in what period of the day"
   ]
  },
  {
   "cell_type": "code",
   "execution_count": 25,
   "id": "47ce6c29-f44b-4d51-83d7-412cad219b9d",
   "metadata": {},
   "outputs": [],
   "source": [
    "DF['week_day'] = df['date'].dt.dayofweek\n",
    "DF['hour'] = df['date'].dt.hour"
   ]
  },
  {
   "cell_type": "markdown",
   "id": "ce2214f6-52a5-4860-bdc0-cd21f2aa2932",
   "metadata": {},
   "source": [
    "## Label encoding"
   ]
  },
  {
   "cell_type": "raw",
   "id": "d36c330e-704c-4955-8d3a-fc406cf9bf5c",
   "metadata": {},
   "source": [
    "We mostly have categorical data, and many of them are unique, so using onehotencoder will not be the best choice - there will be many columns, which will complicate the task, we will use label_encoder, assigning a certain number to each category"
   ]
  },
  {
   "cell_type": "code",
   "execution_count": 26,
   "id": "a811aa84-8c46-4912-becb-dda1c80564e3",
   "metadata": {},
   "outputs": [],
   "source": [
    "def label_encoder(l):\n",
    "    le = LabelEncoder()\n",
    "    le.fit(l)\n",
    "    print(le.classes_)\n",
    "    return(le.transform(l))"
   ]
  },
  {
   "cell_type": "code",
   "execution_count": 27,
   "id": "f121db37-e607-47fe-941c-40e1c87ffc6d",
   "metadata": {},
   "outputs": [],
   "source": [
    "obj_cols = DF.select_dtypes(include=['object']).columns.drop('ci_text_cat')"
   ]
  },
  {
   "cell_type": "code",
   "execution_count": 28,
   "id": "1f4bdc7f-8d0c-40dc-9f4d-ea0837e18b4b",
   "metadata": {},
   "outputs": [
    {
     "data": {
      "text/plain": [
       "Index(['publisher_website', 'visitor_device', 'visitor_device_os',\n",
       "       'visitor_region', 'visitor_browser'],\n",
       "      dtype='object')"
      ]
     },
     "execution_count": 28,
     "metadata": {},
     "output_type": "execute_result"
    }
   ],
   "source": [
    "obj_cols"
   ]
  },
  {
   "cell_type": "code",
   "execution_count": 29,
   "id": "27be7c0b-a897-4422-96c3-47aed6899ced",
   "metadata": {},
   "outputs": [
    {
     "name": "stdout",
     "output_type": "stream",
     "text": [
      "publisher_website\n",
      "['100biografiy.ru' '101.ru' '116.ru' '123film.pro' '161.ru' '1oknn.ru'\n",
      " '29.ru' '3-lordserials.xyz' '45.ru' '4lordserials.xyz' '4x4top.ru'\n",
      " '59.ru' '63.ru' '72.ru' '74.ru' '76.ru' '7days.ru' '7kub.ru' '93.ru'\n",
      " '9look.ru' '9sam.ru' 'aif.ru' 'akniga.org' 'akvauyut.ru'\n",
      " 'all-aforizmy.ru' 'all-library.ru' 'allcarz.ru' 'allroutes.ru'\n",
      " 'allserial.top' 'allya.ru' 'amerikanskiy-papasha.ru' 'animego.today'\n",
      " 'anwapp.org' 'atcyasenevo.ru' 'autonevod.ru' 'autosport.com.ru'\n",
      " 'autotak.ru' 'avtika.ru' 'avtonov.com' 'badlady.ru' 'be5.biz' 'benams.ru'\n",
      " 'beston.market' 'bibliovk.com' 'biografpro.ru'\n",
      " 'bodybuilding-and-fitness.ru' 'bonnycards.ru' 'bookscafe.net'\n",
      " 'booksprime.ru' 'briefly.ru' 'budu5.com' 'burdastyle.ru' 'burn-soft.ru'\n",
      " 'calc.ru' 'carmen62.ru' 'cash-droid.ru' 'catshere.ru' 'cheat-game.ru'\n",
      " 'chefshows.ru' 'chistotnik.ru' 'chita.ru' 'chitat-knigi.com' 'cleany.biz'\n",
      " 'cn-fan.tv' 'comp-security.net' 'coralreef-aqua.ru' 'deepcloud.ru'\n",
      " 'design-homes.ru' 'doctorpiter.ru' 'dom-drakona.su' 'doramy.net'\n",
      " 'drevologia.ru' 'dropi.ru' 'du-lya.ru' 'e1.ru' 'ecoportal.info'\n",
      " 'edaizm.ru' 'eg.ru' 'el-montage.ru' 'eni-oils.ru' 'eschemo.ru'\n",
      " 'europrestige.ru' 'everychild.ru' 'fasad-adelante.ru' 'fermerstyle.ru'\n",
      " 'festima.ru' 'fitomaniya.ru' 'flarix.tv' 'fontanka.ru'\n",
      " 'food-receptkphoto.ru' 'fotostrana.ru' 'geektrips.ru' 'gilber.one'\n",
      " 'glavkniga.ru' 'glosum.ru' 'goload.ru' 'gorodovoy.ru' 'gribnik.info'\n",
      " 'guitarchords.ru' 'hdvideoboks.ru' 'history-doc.ru' 'idealsad.com'\n",
      " 'ipsw.guru' 'ircity.ru' 'it-tehnik.ru' 'itcrumds.ru' 'ivd.ru'\n",
      " 'iz-svininy.ru' 'jutsu-anime.club' 'jutsu.tv' 'kabinet-lichnyj.ru'\n",
      " 'keybooster.ru' 'khl.ru' 'kino-teatr.ru' 'kinoafisha.info' 'kinoblog.tv'\n",
      " 'kinobratan.com' 'kinofilmpro.ru' 'kinogon.ru' 'kinonadzor.com'\n",
      " 'kniga-online.com' 'knigaaudio.com' 'knigaok.ru' 'knigavuhe.org'\n",
      " 'knigi-audio.com' 'knigi-for.me' 'knigkindom.ru' 'konkretniysite.ru'\n",
      " 'kopterinfo.ru' 'kratkoe.com' 'kslift.ru' 'kto-chto-gde.ru' 'kupibaby.ru'\n",
      " 'ladakalina.club' 'lanos-volgograd.ru' 'lemzspb.ru' 'lifehacker.ru'\n",
      " 'littleone.com' 'lolpc.ru' 'lordserials.su' 'love-mother.ru' 'love.e1.ru'\n",
      " 'love.ngs.ru' 'm-z.tv' 'mapsworld.ru' 'marieclaire.ru' 'maximonline.ru'\n",
      " 'megapolisonline.ru' 'meshok-sovetov.ru' 'metallpunkt.ru' 'microexcel.ru'\n",
      " 'mir-knigi.info' 'mir-knigi.net' 'mir-knigi.online' 'mirknigi.info'\n",
      " 'moefermerstvo.ru' 'moika78.ru' 'moj-vnedorozhnik.ru' 'mon-ecole.ru'\n",
      " 'mozaiyka.ru' 'msk1.ru' 'musify.club' 'my-class.ru' 'my-library.info'\n",
      " 'mybrary.info' 'mydecor.ru' 'myfallout-shelter.ru' 'mysekret.ru'\n",
      " 'myseldon.com' 'na-zemle.info' 'naman-mebel.ru' 'needlewoman.ru'\n",
      " 'neolove.ru' 'nepsa.ru' 'netigor.ru' 'ngs.ru' 'ngs24.ru' 'ngs55.ru'\n",
      " 'nn.ru' 'nomerdoma74.ru' 'notorfilms.com' 'notorgames.net' 'novamett.ru'\n",
      " 'oboidomkursk.ru' 'obzortelefonov.ru' 'okcalc.com' 'oknaevrovid.ru'\n",
      " 'online-knigi.org' 'ontvtime.tv' 'orbar.ru' 'orname.ru'\n",
      " 'otdelka-remont.ru' 'otkritochka.net' 'otkrytky.ru' 'otrub.in'\n",
      " 'parents.ru' 'percevod.ru' 'ph4.ru' 'pickimage.ru' 'pipe-s.ru'\n",
      " 'plastep.ru' 'playground.ru' 'po-aptekam.ru' 'podelkisvoimirukami.ru'\n",
      " 'pol-spec.ru' 'polomkiauto.ru' 'popcornnews.ru' 'posetke.ru'\n",
      " 'posle-film.ru' 'poslednie24chasa.ru' 'pressa.tv' 'prestol.online'\n",
      " 'prochepetsk.ru' 'progemorroj.ru' 'progorod76.ru' 'pscraft.ru'\n",
      " 'psychologies.ru' 'qsetup.ru' 'radent40.ru' 'radiosit.ru' 'reedr.ru'\n",
      " 'rockstargames.su' 'rosserial.su' 'royallib.com' 'rseriali.online'\n",
      " 'rserials.online' 'rtbinsight.ru' 'rtvi.com' 'rudatasheet.ru'\n",
      " 'ruserial.online' 'ruturk.ru' 's-lin.ru' 'santatrade.ru'\n",
      " 'search4faces.com' 'serial-mentalist.ru' 'shamrin.ru' 'shop-modern.ru'\n",
      " 'siblimo.ru' 'skidkaonline.ru' 'sluhai.info' 'sonnikguru.ru' 'sovet.news'\n",
      " 'spletnik.ru' 'sport-express.ru' 'sport24.ru' 'sportbox.ru' 'sports.ru'\n",
      " 'stal-kom.ru' 'starbiography.ru' 'starhit.ru' 'strahovkunado.ru'\n",
      " 'studioband.info' 'taiga-taiga.ru' 'tass.ru' 'technika66.ru'\n",
      " 'techrocks.ru' 'tehnosektor.ru' 'telegramland.ru' 'textologia.ru'\n",
      " 'the-challenger.ru' 'thegirl.ru' 'tiguans.ru' 'tlt.ru' 'tolyatty.ru'\n",
      " 'toolgir.ru' 'topogis.ru' 'topznanija.ru' 'transformery-films.ru'\n",
      " 'transportspb.com' 'triatlon-nn.ru' 'ttserial.online' 'turk-ru.live'\n",
      " 'turk-ru.org' 'turkcinema.one' 'turkiru.fun' 'turkish-tv-series.net'\n",
      " 'turkishtv.ru' 'turkru.club' 'turkru.vip' 'turkrutv.online' 'turktv.me'\n",
      " 'turok.tv' 'turoktv.cc' 'turoktv.site' 'tvc.ru' 'tvoichai.ru'\n",
      " 'typerus.ru' 'u-mama.ru' 'ufa1.ru' 'ukuhnya.com' 'union-z.ru'\n",
      " 'usemake.ru' 'uspet-vse.ru' 'v-2021.org' 'v1.ru' 'vamber.ru'\n",
      " 'venteler.ru' 'vid.nebeda.net' 'videomobi.org' 'virtmachine.ru'\n",
      " 'vlubis.net' 'vokrug.tv' 'vokrugsveta.ru' 'vospari23.ru' 'vsedoramy.net'\n",
      " 'vsepodomu.ru' 'vsezvuki.com' 'vvm-auto.ru' 'wday.ru' 'webchef.ru'\n",
      " 'webpodrugi.ru' 'wmbild.ru' 'woman.ru' 'wroom.ru' 'xodex.ru'\n",
      " 'xtorvampyr.ru' 'yaplakal.com' 'zhena-muzh.ru' 'zvukiknig.cc' 'zvyki.com']\n",
      "----\n",
      "visitor_device\n",
      "['Desktop' 'Mobile' 'Tablet']\n",
      "----\n",
      "visitor_device_os\n",
      "['Android' 'ChromeOS' 'Linux' 'Windows' 'iOS' 'macOS']\n",
      "----\n",
      "visitor_region\n",
      "['Adygeya Respublika' 'Altay Respublika' 'Altayskiy kray'\n",
      " 'Amurskaya oblast' 'Arkhangelskaya oblast' 'Astrakhanskaya oblast'\n",
      " 'Bashkortostan Respublika' 'Belgorodskaya oblast' 'Bryanskaya oblast'\n",
      " 'Buryatiya Respublika' 'Chechenskaya Respublika' 'Chelyabinskaya oblast'\n",
      " 'Chukotskiy avtonomnyy okrug' 'Chuvashskaya Respublika'\n",
      " 'Dagestan Respublika' 'Ingushetiya Respublika' 'Irkutskaya oblast'\n",
      " 'Ivanovskaya oblast' 'KabardinoBalkarskaya Respublika'\n",
      " 'Kaliningradskaya oblast' 'Kalmykiya Respublika' 'Kaluzhskaya oblast'\n",
      " 'Kamchatskiy kray' 'KarachayevoCherkesskaya Respublika'\n",
      " 'Kareliya Respublika' 'Kemerovskaya oblast' 'Khabarovskiy kray'\n",
      " 'Khakasiya Respublika' 'KhantyMansiyskiy avtonomnyy okrug'\n",
      " 'Kirovskaya oblast' 'Komi Respublika' 'Kostromskaya oblast'\n",
      " 'Krasnodarskiy kray' 'Krasnoyarskiy kray' 'Kurganskaya oblast'\n",
      " 'Kurskaya oblast' 'Leningradskaya oblast' 'Lipetskaya oblast'\n",
      " 'Magadanskaya oblast' 'Mariy El Respublika' 'Mordoviya Respublika'\n",
      " 'Moskovskaya oblast' 'Moskva' 'Murmanskaya oblast'\n",
      " 'Nenetskiy avtonomnyy okrug' 'Nizhegorodskaya oblast'\n",
      " 'Novgorodskaya oblast' 'Novosibirskaya oblast' 'Omskaya oblast'\n",
      " 'Orenburgskaya oblast' 'Orlovskaya oblast' 'Penzenskaya oblast'\n",
      " 'Permskiy kray' 'Primorskiy kray' 'Pskovskaya oblast'\n",
      " 'Rostovskaya oblast' 'Ryazanskaya oblast' 'Saha Respublika'\n",
      " 'Sakhalinskaya oblast' 'Samarskaya oblast' 'SanktPeterburg'\n",
      " 'Saratovskaya oblast' 'Severnaya Osetiya Respublika' 'Smolenskaya oblast'\n",
      " 'Stavropolskiy kray' 'Sverdlovskaya oblast' 'Tambovskaya oblast'\n",
      " 'Tatarstan Respublika' 'Tomskaya oblast' 'Tulskaya oblast'\n",
      " 'Tverskaya oblast' 'Tyumenskaya oblast' 'Tyva Respublika'\n",
      " 'Udmurtskaya Respublika' 'Ulyanovskaya oblast' 'Vladimirskaya oblast'\n",
      " 'Volgogradskaya oblast' 'Vologodskaya oblast' 'Voronezhskaya oblast'\n",
      " 'YamaloNenetskiy avtonomnyy okrug' 'Yaroslavskaya oblast'\n",
      " 'Yevreyskaya avtonomnaya oblast' 'Zabaykalskiy kray']\n",
      "----\n",
      "visitor_browser\n",
      "['Atom' 'Chrome' 'Edge' 'Elements Browser' 'FSWebApp' 'Firefox'\n",
      " 'Huawei Browser' 'Opera' 'Opera Touch' 'Safari' 'Samsung Browser'\n",
      " 'SberBrowser' 'SmartTV' 'SputnikBrowser' 'XiaoMi' 'YaBrowser' '[FBAN'\n",
      " '[Pinterest' 'iPad' 'iPhone']\n",
      "----\n"
     ]
    }
   ],
   "source": [
    "for col in obj_cols:\n",
    "    print(col)\n",
    "    DF[col] = label_encoder(DF[col])\n",
    "    print('----')"
   ]
  },
  {
   "cell_type": "code",
   "execution_count": 30,
   "id": "55b54118-c34b-45e0-8134-d087f37499c2",
   "metadata": {},
   "outputs": [
    {
     "data": {
      "text/html": [
       "<div>\n",
       "<style scoped>\n",
       "    .dataframe tbody tr th:only-of-type {\n",
       "        vertical-align: middle;\n",
       "    }\n",
       "\n",
       "    .dataframe tbody tr th {\n",
       "        vertical-align: top;\n",
       "    }\n",
       "\n",
       "    .dataframe thead th {\n",
       "        text-align: right;\n",
       "    }\n",
       "</style>\n",
       "<table border=\"1\" class=\"dataframe\">\n",
       "  <thead>\n",
       "    <tr style=\"text-align: right;\">\n",
       "      <th></th>\n",
       "      <th>event_click</th>\n",
       "      <th>publisher_website</th>\n",
       "      <th>ci_text_cat</th>\n",
       "      <th>visitor_device</th>\n",
       "      <th>visitor_device_os</th>\n",
       "      <th>visitor_region</th>\n",
       "      <th>visitor_browser</th>\n",
       "      <th>week_day</th>\n",
       "      <th>hour</th>\n",
       "    </tr>\n",
       "  </thead>\n",
       "  <tbody>\n",
       "    <tr>\n",
       "      <th>0</th>\n",
       "      <td>0</td>\n",
       "      <td>206</td>\n",
       "      <td>['11']</td>\n",
       "      <td>1</td>\n",
       "      <td>4</td>\n",
       "      <td>8</td>\n",
       "      <td>9</td>\n",
       "      <td>3</td>\n",
       "      <td>17</td>\n",
       "    </tr>\n",
       "    <tr>\n",
       "      <th>1</th>\n",
       "      <td>0</td>\n",
       "      <td>316</td>\n",
       "      <td>['11']</td>\n",
       "      <td>0</td>\n",
       "      <td>3</td>\n",
       "      <td>41</td>\n",
       "      <td>1</td>\n",
       "      <td>2</td>\n",
       "      <td>0</td>\n",
       "    </tr>\n",
       "    <tr>\n",
       "      <th>2</th>\n",
       "      <td>0</td>\n",
       "      <td>301</td>\n",
       "      <td>['11']</td>\n",
       "      <td>1</td>\n",
       "      <td>0</td>\n",
       "      <td>42</td>\n",
       "      <td>1</td>\n",
       "      <td>2</td>\n",
       "      <td>7</td>\n",
       "    </tr>\n",
       "    <tr>\n",
       "      <th>3</th>\n",
       "      <td>0</td>\n",
       "      <td>249</td>\n",
       "      <td>['11']</td>\n",
       "      <td>1</td>\n",
       "      <td>4</td>\n",
       "      <td>67</td>\n",
       "      <td>9</td>\n",
       "      <td>3</td>\n",
       "      <td>14</td>\n",
       "    </tr>\n",
       "    <tr>\n",
       "      <th>4</th>\n",
       "      <td>0</td>\n",
       "      <td>114</td>\n",
       "      <td>['1', '11', '211']</td>\n",
       "      <td>1</td>\n",
       "      <td>0</td>\n",
       "      <td>79</td>\n",
       "      <td>1</td>\n",
       "      <td>2</td>\n",
       "      <td>3</td>\n",
       "    </tr>\n",
       "    <tr>\n",
       "      <th>...</th>\n",
       "      <td>...</td>\n",
       "      <td>...</td>\n",
       "      <td>...</td>\n",
       "      <td>...</td>\n",
       "      <td>...</td>\n",
       "      <td>...</td>\n",
       "      <td>...</td>\n",
       "      <td>...</td>\n",
       "      <td>...</td>\n",
       "    </tr>\n",
       "    <tr>\n",
       "      <th>94939</th>\n",
       "      <td>0</td>\n",
       "      <td>78</td>\n",
       "      <td>['11']</td>\n",
       "      <td>1</td>\n",
       "      <td>0</td>\n",
       "      <td>2</td>\n",
       "      <td>1</td>\n",
       "      <td>4</td>\n",
       "      <td>16</td>\n",
       "    </tr>\n",
       "    <tr>\n",
       "      <th>94940</th>\n",
       "      <td>0</td>\n",
       "      <td>114</td>\n",
       "      <td>['1', '13']</td>\n",
       "      <td>1</td>\n",
       "      <td>0</td>\n",
       "      <td>32</td>\n",
       "      <td>1</td>\n",
       "      <td>2</td>\n",
       "      <td>23</td>\n",
       "    </tr>\n",
       "    <tr>\n",
       "      <th>94941</th>\n",
       "      <td>0</td>\n",
       "      <td>78</td>\n",
       "      <td>['11']</td>\n",
       "      <td>1</td>\n",
       "      <td>0</td>\n",
       "      <td>59</td>\n",
       "      <td>1</td>\n",
       "      <td>2</td>\n",
       "      <td>7</td>\n",
       "    </tr>\n",
       "    <tr>\n",
       "      <th>94942</th>\n",
       "      <td>1</td>\n",
       "      <td>16</td>\n",
       "      <td>['11']</td>\n",
       "      <td>1</td>\n",
       "      <td>0</td>\n",
       "      <td>60</td>\n",
       "      <td>1</td>\n",
       "      <td>5</td>\n",
       "      <td>20</td>\n",
       "    </tr>\n",
       "    <tr>\n",
       "      <th>94943</th>\n",
       "      <td>0</td>\n",
       "      <td>113</td>\n",
       "      <td>['11', '213']</td>\n",
       "      <td>1</td>\n",
       "      <td>0</td>\n",
       "      <td>33</td>\n",
       "      <td>1</td>\n",
       "      <td>3</td>\n",
       "      <td>11</td>\n",
       "    </tr>\n",
       "  </tbody>\n",
       "</table>\n",
       "<p>94944 rows × 9 columns</p>\n",
       "</div>"
      ],
      "text/plain": [
       "       event_click  publisher_website         ci_text_cat  visitor_device  \\\n",
       "0                0                206              ['11']               1   \n",
       "1                0                316              ['11']               0   \n",
       "2                0                301              ['11']               1   \n",
       "3                0                249              ['11']               1   \n",
       "4                0                114  ['1', '11', '211']               1   \n",
       "...            ...                ...                 ...             ...   \n",
       "94939            0                 78              ['11']               1   \n",
       "94940            0                114         ['1', '13']               1   \n",
       "94941            0                 78              ['11']               1   \n",
       "94942            1                 16              ['11']               1   \n",
       "94943            0                113       ['11', '213']               1   \n",
       "\n",
       "       visitor_device_os  visitor_region  visitor_browser  week_day  hour  \n",
       "0                      4               8                9         3    17  \n",
       "1                      3              41                1         2     0  \n",
       "2                      0              42                1         2     7  \n",
       "3                      4              67                9         3    14  \n",
       "4                      0              79                1         2     3  \n",
       "...                  ...             ...              ...       ...   ...  \n",
       "94939                  0               2                1         4    16  \n",
       "94940                  0              32                1         2    23  \n",
       "94941                  0              59                1         2     7  \n",
       "94942                  0              60                1         5    20  \n",
       "94943                  0              33                1         3    11  \n",
       "\n",
       "[94944 rows x 9 columns]"
      ]
     },
     "execution_count": 30,
     "metadata": {},
     "output_type": "execute_result"
    }
   ],
   "source": [
    "DF"
   ]
  },
  {
   "cell_type": "code",
   "execution_count": 31,
   "id": "d9a21760-06cb-41ca-ab22-e5626fb99023",
   "metadata": {},
   "outputs": [],
   "source": [
    "# convert the data in the \"ci_text_cat\" column from strings to lists\n",
    "import re\n",
    "def str_to_list(st):\n",
    "    regex = re.compile('[^0-9,]') \n",
    "    st = regex.sub('', st) # remove everything except numbers and commas\n",
    "    return [int(x) for x in list(st.split(\",\"))] # return a list of integers"
   ]
  },
  {
   "cell_type": "code",
   "execution_count": 32,
   "id": "cca8a5c5-b038-48bb-8ad5-73093027e8da",
   "metadata": {},
   "outputs": [],
   "source": [
    "DF['ci_text_cat'] = list(map(str_to_list,DF['ci_text_cat']))"
   ]
  },
  {
   "cell_type": "code",
   "execution_count": 33,
   "id": "a526c9f3-c7c9-4fd3-82ae-6f3f10967e00",
   "metadata": {},
   "outputs": [],
   "source": [
    "# convert column ci_text_cat to multiple columns (analogue of OneHotEncoder for lists)\n",
    "mlb = MultiLabelBinarizer(sparse_output=True)\n",
    "\n",
    "DF = DF.join(\n",
    "            pd.DataFrame.sparse.from_spmatrix(\n",
    "                mlb.fit_transform(DF.pop('ci_text_cat')),\n",
    "                index=DF.index,\n",
    "                columns=mlb.classes_))"
   ]
  },
  {
   "cell_type": "code",
   "execution_count": 34,
   "id": "44b15ca9-94ad-4266-922c-56dda8da2f72",
   "metadata": {},
   "outputs": [
    {
     "data": {
      "text/html": [
       "<div>\n",
       "<style scoped>\n",
       "    .dataframe tbody tr th:only-of-type {\n",
       "        vertical-align: middle;\n",
       "    }\n",
       "\n",
       "    .dataframe tbody tr th {\n",
       "        vertical-align: top;\n",
       "    }\n",
       "\n",
       "    .dataframe thead th {\n",
       "        text-align: right;\n",
       "    }\n",
       "</style>\n",
       "<table border=\"1\" class=\"dataframe\">\n",
       "  <thead>\n",
       "    <tr style=\"text-align: right;\">\n",
       "      <th></th>\n",
       "      <th>event_click</th>\n",
       "      <th>publisher_website</th>\n",
       "      <th>visitor_device</th>\n",
       "      <th>visitor_device_os</th>\n",
       "      <th>visitor_region</th>\n",
       "      <th>visitor_browser</th>\n",
       "      <th>week_day</th>\n",
       "      <th>hour</th>\n",
       "      <th>1</th>\n",
       "      <th>3</th>\n",
       "      <th>...</th>\n",
       "      <th>2190</th>\n",
       "      <th>2200</th>\n",
       "      <th>2206</th>\n",
       "      <th>21000</th>\n",
       "      <th>21001</th>\n",
       "      <th>21700</th>\n",
       "      <th>21701</th>\n",
       "      <th>22015</th>\n",
       "      <th>22016</th>\n",
       "      <th>22023</th>\n",
       "    </tr>\n",
       "  </thead>\n",
       "  <tbody>\n",
       "    <tr>\n",
       "      <th>0</th>\n",
       "      <td>0</td>\n",
       "      <td>206</td>\n",
       "      <td>1</td>\n",
       "      <td>4</td>\n",
       "      <td>8</td>\n",
       "      <td>9</td>\n",
       "      <td>3</td>\n",
       "      <td>17</td>\n",
       "      <td>0</td>\n",
       "      <td>0</td>\n",
       "      <td>...</td>\n",
       "      <td>0</td>\n",
       "      <td>0</td>\n",
       "      <td>0</td>\n",
       "      <td>0</td>\n",
       "      <td>0</td>\n",
       "      <td>0</td>\n",
       "      <td>0</td>\n",
       "      <td>0</td>\n",
       "      <td>0</td>\n",
       "      <td>0</td>\n",
       "    </tr>\n",
       "    <tr>\n",
       "      <th>1</th>\n",
       "      <td>0</td>\n",
       "      <td>316</td>\n",
       "      <td>0</td>\n",
       "      <td>3</td>\n",
       "      <td>41</td>\n",
       "      <td>1</td>\n",
       "      <td>2</td>\n",
       "      <td>0</td>\n",
       "      <td>0</td>\n",
       "      <td>0</td>\n",
       "      <td>...</td>\n",
       "      <td>0</td>\n",
       "      <td>0</td>\n",
       "      <td>0</td>\n",
       "      <td>0</td>\n",
       "      <td>0</td>\n",
       "      <td>0</td>\n",
       "      <td>0</td>\n",
       "      <td>0</td>\n",
       "      <td>0</td>\n",
       "      <td>0</td>\n",
       "    </tr>\n",
       "    <tr>\n",
       "      <th>2</th>\n",
       "      <td>0</td>\n",
       "      <td>301</td>\n",
       "      <td>1</td>\n",
       "      <td>0</td>\n",
       "      <td>42</td>\n",
       "      <td>1</td>\n",
       "      <td>2</td>\n",
       "      <td>7</td>\n",
       "      <td>0</td>\n",
       "      <td>0</td>\n",
       "      <td>...</td>\n",
       "      <td>0</td>\n",
       "      <td>0</td>\n",
       "      <td>0</td>\n",
       "      <td>0</td>\n",
       "      <td>0</td>\n",
       "      <td>0</td>\n",
       "      <td>0</td>\n",
       "      <td>0</td>\n",
       "      <td>0</td>\n",
       "      <td>0</td>\n",
       "    </tr>\n",
       "    <tr>\n",
       "      <th>3</th>\n",
       "      <td>0</td>\n",
       "      <td>249</td>\n",
       "      <td>1</td>\n",
       "      <td>4</td>\n",
       "      <td>67</td>\n",
       "      <td>9</td>\n",
       "      <td>3</td>\n",
       "      <td>14</td>\n",
       "      <td>0</td>\n",
       "      <td>0</td>\n",
       "      <td>...</td>\n",
       "      <td>0</td>\n",
       "      <td>0</td>\n",
       "      <td>0</td>\n",
       "      <td>0</td>\n",
       "      <td>0</td>\n",
       "      <td>0</td>\n",
       "      <td>0</td>\n",
       "      <td>0</td>\n",
       "      <td>0</td>\n",
       "      <td>0</td>\n",
       "    </tr>\n",
       "    <tr>\n",
       "      <th>4</th>\n",
       "      <td>0</td>\n",
       "      <td>114</td>\n",
       "      <td>1</td>\n",
       "      <td>0</td>\n",
       "      <td>79</td>\n",
       "      <td>1</td>\n",
       "      <td>2</td>\n",
       "      <td>3</td>\n",
       "      <td>1</td>\n",
       "      <td>0</td>\n",
       "      <td>...</td>\n",
       "      <td>0</td>\n",
       "      <td>0</td>\n",
       "      <td>0</td>\n",
       "      <td>0</td>\n",
       "      <td>0</td>\n",
       "      <td>0</td>\n",
       "      <td>0</td>\n",
       "      <td>0</td>\n",
       "      <td>0</td>\n",
       "      <td>0</td>\n",
       "    </tr>\n",
       "    <tr>\n",
       "      <th>...</th>\n",
       "      <td>...</td>\n",
       "      <td>...</td>\n",
       "      <td>...</td>\n",
       "      <td>...</td>\n",
       "      <td>...</td>\n",
       "      <td>...</td>\n",
       "      <td>...</td>\n",
       "      <td>...</td>\n",
       "      <td>...</td>\n",
       "      <td>...</td>\n",
       "      <td>...</td>\n",
       "      <td>...</td>\n",
       "      <td>...</td>\n",
       "      <td>...</td>\n",
       "      <td>...</td>\n",
       "      <td>...</td>\n",
       "      <td>...</td>\n",
       "      <td>...</td>\n",
       "      <td>...</td>\n",
       "      <td>...</td>\n",
       "      <td>...</td>\n",
       "    </tr>\n",
       "    <tr>\n",
       "      <th>94939</th>\n",
       "      <td>0</td>\n",
       "      <td>78</td>\n",
       "      <td>1</td>\n",
       "      <td>0</td>\n",
       "      <td>2</td>\n",
       "      <td>1</td>\n",
       "      <td>4</td>\n",
       "      <td>16</td>\n",
       "      <td>0</td>\n",
       "      <td>0</td>\n",
       "      <td>...</td>\n",
       "      <td>0</td>\n",
       "      <td>0</td>\n",
       "      <td>0</td>\n",
       "      <td>0</td>\n",
       "      <td>0</td>\n",
       "      <td>0</td>\n",
       "      <td>0</td>\n",
       "      <td>0</td>\n",
       "      <td>0</td>\n",
       "      <td>0</td>\n",
       "    </tr>\n",
       "    <tr>\n",
       "      <th>94940</th>\n",
       "      <td>0</td>\n",
       "      <td>114</td>\n",
       "      <td>1</td>\n",
       "      <td>0</td>\n",
       "      <td>32</td>\n",
       "      <td>1</td>\n",
       "      <td>2</td>\n",
       "      <td>23</td>\n",
       "      <td>1</td>\n",
       "      <td>0</td>\n",
       "      <td>...</td>\n",
       "      <td>0</td>\n",
       "      <td>0</td>\n",
       "      <td>0</td>\n",
       "      <td>0</td>\n",
       "      <td>0</td>\n",
       "      <td>0</td>\n",
       "      <td>0</td>\n",
       "      <td>0</td>\n",
       "      <td>0</td>\n",
       "      <td>0</td>\n",
       "    </tr>\n",
       "    <tr>\n",
       "      <th>94941</th>\n",
       "      <td>0</td>\n",
       "      <td>78</td>\n",
       "      <td>1</td>\n",
       "      <td>0</td>\n",
       "      <td>59</td>\n",
       "      <td>1</td>\n",
       "      <td>2</td>\n",
       "      <td>7</td>\n",
       "      <td>0</td>\n",
       "      <td>0</td>\n",
       "      <td>...</td>\n",
       "      <td>0</td>\n",
       "      <td>0</td>\n",
       "      <td>0</td>\n",
       "      <td>0</td>\n",
       "      <td>0</td>\n",
       "      <td>0</td>\n",
       "      <td>0</td>\n",
       "      <td>0</td>\n",
       "      <td>0</td>\n",
       "      <td>0</td>\n",
       "    </tr>\n",
       "    <tr>\n",
       "      <th>94942</th>\n",
       "      <td>1</td>\n",
       "      <td>16</td>\n",
       "      <td>1</td>\n",
       "      <td>0</td>\n",
       "      <td>60</td>\n",
       "      <td>1</td>\n",
       "      <td>5</td>\n",
       "      <td>20</td>\n",
       "      <td>0</td>\n",
       "      <td>0</td>\n",
       "      <td>...</td>\n",
       "      <td>0</td>\n",
       "      <td>0</td>\n",
       "      <td>0</td>\n",
       "      <td>0</td>\n",
       "      <td>0</td>\n",
       "      <td>0</td>\n",
       "      <td>0</td>\n",
       "      <td>0</td>\n",
       "      <td>0</td>\n",
       "      <td>0</td>\n",
       "    </tr>\n",
       "    <tr>\n",
       "      <th>94943</th>\n",
       "      <td>0</td>\n",
       "      <td>113</td>\n",
       "      <td>1</td>\n",
       "      <td>0</td>\n",
       "      <td>33</td>\n",
       "      <td>1</td>\n",
       "      <td>3</td>\n",
       "      <td>11</td>\n",
       "      <td>0</td>\n",
       "      <td>0</td>\n",
       "      <td>...</td>\n",
       "      <td>0</td>\n",
       "      <td>0</td>\n",
       "      <td>0</td>\n",
       "      <td>0</td>\n",
       "      <td>0</td>\n",
       "      <td>0</td>\n",
       "      <td>0</td>\n",
       "      <td>0</td>\n",
       "      <td>0</td>\n",
       "      <td>0</td>\n",
       "    </tr>\n",
       "  </tbody>\n",
       "</table>\n",
       "<p>94944 rows × 44 columns</p>\n",
       "</div>"
      ],
      "text/plain": [
       "       event_click  publisher_website  visitor_device  visitor_device_os  \\\n",
       "0                0                206               1                  4   \n",
       "1                0                316               0                  3   \n",
       "2                0                301               1                  0   \n",
       "3                0                249               1                  4   \n",
       "4                0                114               1                  0   \n",
       "...            ...                ...             ...                ...   \n",
       "94939            0                 78               1                  0   \n",
       "94940            0                114               1                  0   \n",
       "94941            0                 78               1                  0   \n",
       "94942            1                 16               1                  0   \n",
       "94943            0                113               1                  0   \n",
       "\n",
       "       visitor_region  visitor_browser  week_day  hour  1  3  ...  2190  2200  \\\n",
       "0                   8                9         3    17  0  0  ...     0     0   \n",
       "1                  41                1         2     0  0  0  ...     0     0   \n",
       "2                  42                1         2     7  0  0  ...     0     0   \n",
       "3                  67                9         3    14  0  0  ...     0     0   \n",
       "4                  79                1         2     3  1  0  ...     0     0   \n",
       "...               ...              ...       ...   ... .. ..  ...   ...   ...   \n",
       "94939               2                1         4    16  0  0  ...     0     0   \n",
       "94940              32                1         2    23  1  0  ...     0     0   \n",
       "94941              59                1         2     7  0  0  ...     0     0   \n",
       "94942              60                1         5    20  0  0  ...     0     0   \n",
       "94943              33                1         3    11  0  0  ...     0     0   \n",
       "\n",
       "       2206  21000  21001  21700  21701  22015  22016  22023  \n",
       "0         0      0      0      0      0      0      0      0  \n",
       "1         0      0      0      0      0      0      0      0  \n",
       "2         0      0      0      0      0      0      0      0  \n",
       "3         0      0      0      0      0      0      0      0  \n",
       "4         0      0      0      0      0      0      0      0  \n",
       "...     ...    ...    ...    ...    ...    ...    ...    ...  \n",
       "94939     0      0      0      0      0      0      0      0  \n",
       "94940     0      0      0      0      0      0      0      0  \n",
       "94941     0      0      0      0      0      0      0      0  \n",
       "94942     0      0      0      0      0      0      0      0  \n",
       "94943     0      0      0      0      0      0      0      0  \n",
       "\n",
       "[94944 rows x 44 columns]"
      ]
     },
     "execution_count": 34,
     "metadata": {},
     "output_type": "execute_result"
    }
   ],
   "source": [
    "DF"
   ]
  },
  {
   "cell_type": "code",
   "execution_count": 35,
   "id": "1969c39b-cd8c-4960-81c1-c370d0d68416",
   "metadata": {},
   "outputs": [],
   "source": [
    "DF.columns = DF.columns.map(str)"
   ]
  },
  {
   "cell_type": "markdown",
   "id": "9efa9d1b-0a7f-4f59-8285-7cc66453462c",
   "metadata": {},
   "source": [
    "## Scaling"
   ]
  },
  {
   "cell_type": "markdown",
   "id": "09d8cf4c-0ead-402a-87be-050bce5aa8ae",
   "metadata": {},
   "source": [
    "#### to prevent larger numbers from having more weight when building models, scale all data to numbers from the interval [0,1]"
   ]
  },
  {
   "cell_type": "code",
   "execution_count": 36,
   "id": "425e4923-d545-4f94-9d27-b47817b8c573",
   "metadata": {},
   "outputs": [
    {
     "name": "stderr",
     "output_type": "stream",
     "text": [
      "C:\\Users\\natal\\AppData\\Local\\Programs\\Python\\Python310\\lib\\site-packages\\sklearn\\utils\\validation.py:768: UserWarning: pandas.DataFrame with sparse columns found.It will be converted to a dense numpy array.\n",
      "  warnings.warn(\n",
      "C:\\Users\\natal\\AppData\\Local\\Programs\\Python\\Python310\\lib\\site-packages\\sklearn\\utils\\validation.py:768: UserWarning: pandas.DataFrame with sparse columns found.It will be converted to a dense numpy array.\n",
      "  warnings.warn(\n"
     ]
    }
   ],
   "source": [
    "DF = pd.DataFrame(MinMaxScaler().fit_transform(DF),columns=DF.columns)"
   ]
  },
  {
   "cell_type": "code",
   "execution_count": 37,
   "id": "a0350fa3-b601-4003-be63-660f48d9ad3b",
   "metadata": {},
   "outputs": [
    {
     "data": {
      "text/html": [
       "<div>\n",
       "<style scoped>\n",
       "    .dataframe tbody tr th:only-of-type {\n",
       "        vertical-align: middle;\n",
       "    }\n",
       "\n",
       "    .dataframe tbody tr th {\n",
       "        vertical-align: top;\n",
       "    }\n",
       "\n",
       "    .dataframe thead th {\n",
       "        text-align: right;\n",
       "    }\n",
       "</style>\n",
       "<table border=\"1\" class=\"dataframe\">\n",
       "  <thead>\n",
       "    <tr style=\"text-align: right;\">\n",
       "      <th></th>\n",
       "      <th>event_click</th>\n",
       "      <th>publisher_website</th>\n",
       "      <th>visitor_device</th>\n",
       "      <th>visitor_device_os</th>\n",
       "      <th>visitor_region</th>\n",
       "      <th>visitor_browser</th>\n",
       "      <th>week_day</th>\n",
       "      <th>hour</th>\n",
       "      <th>1</th>\n",
       "      <th>3</th>\n",
       "      <th>...</th>\n",
       "      <th>2190</th>\n",
       "      <th>2200</th>\n",
       "      <th>2206</th>\n",
       "      <th>21000</th>\n",
       "      <th>21001</th>\n",
       "      <th>21700</th>\n",
       "      <th>21701</th>\n",
       "      <th>22015</th>\n",
       "      <th>22016</th>\n",
       "      <th>22023</th>\n",
       "    </tr>\n",
       "  </thead>\n",
       "  <tbody>\n",
       "    <tr>\n",
       "      <th>0</th>\n",
       "      <td>0.0</td>\n",
       "      <td>0.645768</td>\n",
       "      <td>0.5</td>\n",
       "      <td>0.8</td>\n",
       "      <td>0.097561</td>\n",
       "      <td>0.473684</td>\n",
       "      <td>0.500000</td>\n",
       "      <td>0.739130</td>\n",
       "      <td>0.0</td>\n",
       "      <td>0.0</td>\n",
       "      <td>...</td>\n",
       "      <td>0.0</td>\n",
       "      <td>0.0</td>\n",
       "      <td>0.0</td>\n",
       "      <td>0.0</td>\n",
       "      <td>0.0</td>\n",
       "      <td>0.0</td>\n",
       "      <td>0.0</td>\n",
       "      <td>0.0</td>\n",
       "      <td>0.0</td>\n",
       "      <td>0.0</td>\n",
       "    </tr>\n",
       "    <tr>\n",
       "      <th>1</th>\n",
       "      <td>0.0</td>\n",
       "      <td>0.990596</td>\n",
       "      <td>0.0</td>\n",
       "      <td>0.6</td>\n",
       "      <td>0.500000</td>\n",
       "      <td>0.052632</td>\n",
       "      <td>0.333333</td>\n",
       "      <td>0.000000</td>\n",
       "      <td>0.0</td>\n",
       "      <td>0.0</td>\n",
       "      <td>...</td>\n",
       "      <td>0.0</td>\n",
       "      <td>0.0</td>\n",
       "      <td>0.0</td>\n",
       "      <td>0.0</td>\n",
       "      <td>0.0</td>\n",
       "      <td>0.0</td>\n",
       "      <td>0.0</td>\n",
       "      <td>0.0</td>\n",
       "      <td>0.0</td>\n",
       "      <td>0.0</td>\n",
       "    </tr>\n",
       "    <tr>\n",
       "      <th>2</th>\n",
       "      <td>0.0</td>\n",
       "      <td>0.943574</td>\n",
       "      <td>0.5</td>\n",
       "      <td>0.0</td>\n",
       "      <td>0.512195</td>\n",
       "      <td>0.052632</td>\n",
       "      <td>0.333333</td>\n",
       "      <td>0.304348</td>\n",
       "      <td>0.0</td>\n",
       "      <td>0.0</td>\n",
       "      <td>...</td>\n",
       "      <td>0.0</td>\n",
       "      <td>0.0</td>\n",
       "      <td>0.0</td>\n",
       "      <td>0.0</td>\n",
       "      <td>0.0</td>\n",
       "      <td>0.0</td>\n",
       "      <td>0.0</td>\n",
       "      <td>0.0</td>\n",
       "      <td>0.0</td>\n",
       "      <td>0.0</td>\n",
       "    </tr>\n",
       "    <tr>\n",
       "      <th>3</th>\n",
       "      <td>0.0</td>\n",
       "      <td>0.780564</td>\n",
       "      <td>0.5</td>\n",
       "      <td>0.8</td>\n",
       "      <td>0.817073</td>\n",
       "      <td>0.473684</td>\n",
       "      <td>0.500000</td>\n",
       "      <td>0.608696</td>\n",
       "      <td>0.0</td>\n",
       "      <td>0.0</td>\n",
       "      <td>...</td>\n",
       "      <td>0.0</td>\n",
       "      <td>0.0</td>\n",
       "      <td>0.0</td>\n",
       "      <td>0.0</td>\n",
       "      <td>0.0</td>\n",
       "      <td>0.0</td>\n",
       "      <td>0.0</td>\n",
       "      <td>0.0</td>\n",
       "      <td>0.0</td>\n",
       "      <td>0.0</td>\n",
       "    </tr>\n",
       "    <tr>\n",
       "      <th>4</th>\n",
       "      <td>0.0</td>\n",
       "      <td>0.357367</td>\n",
       "      <td>0.5</td>\n",
       "      <td>0.0</td>\n",
       "      <td>0.963415</td>\n",
       "      <td>0.052632</td>\n",
       "      <td>0.333333</td>\n",
       "      <td>0.130435</td>\n",
       "      <td>1.0</td>\n",
       "      <td>0.0</td>\n",
       "      <td>...</td>\n",
       "      <td>0.0</td>\n",
       "      <td>0.0</td>\n",
       "      <td>0.0</td>\n",
       "      <td>0.0</td>\n",
       "      <td>0.0</td>\n",
       "      <td>0.0</td>\n",
       "      <td>0.0</td>\n",
       "      <td>0.0</td>\n",
       "      <td>0.0</td>\n",
       "      <td>0.0</td>\n",
       "    </tr>\n",
       "    <tr>\n",
       "      <th>...</th>\n",
       "      <td>...</td>\n",
       "      <td>...</td>\n",
       "      <td>...</td>\n",
       "      <td>...</td>\n",
       "      <td>...</td>\n",
       "      <td>...</td>\n",
       "      <td>...</td>\n",
       "      <td>...</td>\n",
       "      <td>...</td>\n",
       "      <td>...</td>\n",
       "      <td>...</td>\n",
       "      <td>...</td>\n",
       "      <td>...</td>\n",
       "      <td>...</td>\n",
       "      <td>...</td>\n",
       "      <td>...</td>\n",
       "      <td>...</td>\n",
       "      <td>...</td>\n",
       "      <td>...</td>\n",
       "      <td>...</td>\n",
       "      <td>...</td>\n",
       "    </tr>\n",
       "    <tr>\n",
       "      <th>94939</th>\n",
       "      <td>0.0</td>\n",
       "      <td>0.244514</td>\n",
       "      <td>0.5</td>\n",
       "      <td>0.0</td>\n",
       "      <td>0.024390</td>\n",
       "      <td>0.052632</td>\n",
       "      <td>0.666667</td>\n",
       "      <td>0.695652</td>\n",
       "      <td>0.0</td>\n",
       "      <td>0.0</td>\n",
       "      <td>...</td>\n",
       "      <td>0.0</td>\n",
       "      <td>0.0</td>\n",
       "      <td>0.0</td>\n",
       "      <td>0.0</td>\n",
       "      <td>0.0</td>\n",
       "      <td>0.0</td>\n",
       "      <td>0.0</td>\n",
       "      <td>0.0</td>\n",
       "      <td>0.0</td>\n",
       "      <td>0.0</td>\n",
       "    </tr>\n",
       "    <tr>\n",
       "      <th>94940</th>\n",
       "      <td>0.0</td>\n",
       "      <td>0.357367</td>\n",
       "      <td>0.5</td>\n",
       "      <td>0.0</td>\n",
       "      <td>0.390244</td>\n",
       "      <td>0.052632</td>\n",
       "      <td>0.333333</td>\n",
       "      <td>1.000000</td>\n",
       "      <td>1.0</td>\n",
       "      <td>0.0</td>\n",
       "      <td>...</td>\n",
       "      <td>0.0</td>\n",
       "      <td>0.0</td>\n",
       "      <td>0.0</td>\n",
       "      <td>0.0</td>\n",
       "      <td>0.0</td>\n",
       "      <td>0.0</td>\n",
       "      <td>0.0</td>\n",
       "      <td>0.0</td>\n",
       "      <td>0.0</td>\n",
       "      <td>0.0</td>\n",
       "    </tr>\n",
       "    <tr>\n",
       "      <th>94941</th>\n",
       "      <td>0.0</td>\n",
       "      <td>0.244514</td>\n",
       "      <td>0.5</td>\n",
       "      <td>0.0</td>\n",
       "      <td>0.719512</td>\n",
       "      <td>0.052632</td>\n",
       "      <td>0.333333</td>\n",
       "      <td>0.304348</td>\n",
       "      <td>0.0</td>\n",
       "      <td>0.0</td>\n",
       "      <td>...</td>\n",
       "      <td>0.0</td>\n",
       "      <td>0.0</td>\n",
       "      <td>0.0</td>\n",
       "      <td>0.0</td>\n",
       "      <td>0.0</td>\n",
       "      <td>0.0</td>\n",
       "      <td>0.0</td>\n",
       "      <td>0.0</td>\n",
       "      <td>0.0</td>\n",
       "      <td>0.0</td>\n",
       "    </tr>\n",
       "    <tr>\n",
       "      <th>94942</th>\n",
       "      <td>1.0</td>\n",
       "      <td>0.050157</td>\n",
       "      <td>0.5</td>\n",
       "      <td>0.0</td>\n",
       "      <td>0.731707</td>\n",
       "      <td>0.052632</td>\n",
       "      <td>0.833333</td>\n",
       "      <td>0.869565</td>\n",
       "      <td>0.0</td>\n",
       "      <td>0.0</td>\n",
       "      <td>...</td>\n",
       "      <td>0.0</td>\n",
       "      <td>0.0</td>\n",
       "      <td>0.0</td>\n",
       "      <td>0.0</td>\n",
       "      <td>0.0</td>\n",
       "      <td>0.0</td>\n",
       "      <td>0.0</td>\n",
       "      <td>0.0</td>\n",
       "      <td>0.0</td>\n",
       "      <td>0.0</td>\n",
       "    </tr>\n",
       "    <tr>\n",
       "      <th>94943</th>\n",
       "      <td>0.0</td>\n",
       "      <td>0.354232</td>\n",
       "      <td>0.5</td>\n",
       "      <td>0.0</td>\n",
       "      <td>0.402439</td>\n",
       "      <td>0.052632</td>\n",
       "      <td>0.500000</td>\n",
       "      <td>0.478261</td>\n",
       "      <td>0.0</td>\n",
       "      <td>0.0</td>\n",
       "      <td>...</td>\n",
       "      <td>0.0</td>\n",
       "      <td>0.0</td>\n",
       "      <td>0.0</td>\n",
       "      <td>0.0</td>\n",
       "      <td>0.0</td>\n",
       "      <td>0.0</td>\n",
       "      <td>0.0</td>\n",
       "      <td>0.0</td>\n",
       "      <td>0.0</td>\n",
       "      <td>0.0</td>\n",
       "    </tr>\n",
       "  </tbody>\n",
       "</table>\n",
       "<p>94944 rows × 44 columns</p>\n",
       "</div>"
      ],
      "text/plain": [
       "       event_click  publisher_website  visitor_device  visitor_device_os  \\\n",
       "0              0.0           0.645768             0.5                0.8   \n",
       "1              0.0           0.990596             0.0                0.6   \n",
       "2              0.0           0.943574             0.5                0.0   \n",
       "3              0.0           0.780564             0.5                0.8   \n",
       "4              0.0           0.357367             0.5                0.0   \n",
       "...            ...                ...             ...                ...   \n",
       "94939          0.0           0.244514             0.5                0.0   \n",
       "94940          0.0           0.357367             0.5                0.0   \n",
       "94941          0.0           0.244514             0.5                0.0   \n",
       "94942          1.0           0.050157             0.5                0.0   \n",
       "94943          0.0           0.354232             0.5                0.0   \n",
       "\n",
       "       visitor_region  visitor_browser  week_day      hour    1    3  ...  \\\n",
       "0            0.097561         0.473684  0.500000  0.739130  0.0  0.0  ...   \n",
       "1            0.500000         0.052632  0.333333  0.000000  0.0  0.0  ...   \n",
       "2            0.512195         0.052632  0.333333  0.304348  0.0  0.0  ...   \n",
       "3            0.817073         0.473684  0.500000  0.608696  0.0  0.0  ...   \n",
       "4            0.963415         0.052632  0.333333  0.130435  1.0  0.0  ...   \n",
       "...               ...              ...       ...       ...  ...  ...  ...   \n",
       "94939        0.024390         0.052632  0.666667  0.695652  0.0  0.0  ...   \n",
       "94940        0.390244         0.052632  0.333333  1.000000  1.0  0.0  ...   \n",
       "94941        0.719512         0.052632  0.333333  0.304348  0.0  0.0  ...   \n",
       "94942        0.731707         0.052632  0.833333  0.869565  0.0  0.0  ...   \n",
       "94943        0.402439         0.052632  0.500000  0.478261  0.0  0.0  ...   \n",
       "\n",
       "       2190  2200  2206  21000  21001  21700  21701  22015  22016  22023  \n",
       "0       0.0   0.0   0.0    0.0    0.0    0.0    0.0    0.0    0.0    0.0  \n",
       "1       0.0   0.0   0.0    0.0    0.0    0.0    0.0    0.0    0.0    0.0  \n",
       "2       0.0   0.0   0.0    0.0    0.0    0.0    0.0    0.0    0.0    0.0  \n",
       "3       0.0   0.0   0.0    0.0    0.0    0.0    0.0    0.0    0.0    0.0  \n",
       "4       0.0   0.0   0.0    0.0    0.0    0.0    0.0    0.0    0.0    0.0  \n",
       "...     ...   ...   ...    ...    ...    ...    ...    ...    ...    ...  \n",
       "94939   0.0   0.0   0.0    0.0    0.0    0.0    0.0    0.0    0.0    0.0  \n",
       "94940   0.0   0.0   0.0    0.0    0.0    0.0    0.0    0.0    0.0    0.0  \n",
       "94941   0.0   0.0   0.0    0.0    0.0    0.0    0.0    0.0    0.0    0.0  \n",
       "94942   0.0   0.0   0.0    0.0    0.0    0.0    0.0    0.0    0.0    0.0  \n",
       "94943   0.0   0.0   0.0    0.0    0.0    0.0    0.0    0.0    0.0    0.0  \n",
       "\n",
       "[94944 rows x 44 columns]"
      ]
     },
     "execution_count": 37,
     "metadata": {},
     "output_type": "execute_result"
    }
   ],
   "source": [
    "DF"
   ]
  },
  {
   "cell_type": "markdown",
   "id": "c892e82e-2e99-4fa5-ba43-f8b33f0b625b",
   "metadata": {},
   "source": [
    "#### a diagram of clicks depending on days of the week:"
   ]
  },
  {
   "cell_type": "code",
   "execution_count": 38,
   "id": "1287f2f8-e407-48af-8531-7e05ca1dc87a",
   "metadata": {},
   "outputs": [
    {
     "data": {
      "text/plain": [
       "<Axes: xlabel='week_day', ylabel='count'>"
      ]
     },
     "execution_count": 38,
     "metadata": {},
     "output_type": "execute_result"
    },
    {
     "data": {
      "image/png": "[encoded data removed]",
      "text/plain": [
       "<Figure size 640x480 with 1 Axes>"
      ]
     },
     "metadata": {},
     "output_type": "display_data"
    }
   ],
   "source": [
    "sns.countplot(x='week_day',hue='event_click',data=DF)"
   ]
  },
  {
   "cell_type": "markdown",
   "id": "69e9251f-7e23-410f-8772-c169f6c1b9ea",
   "metadata": {},
   "source": [
    "#### on the first day of the week the probability of clicks is much higher"
   ]
  },
  {
   "cell_type": "markdown",
   "id": "e68386c9-56b7-45d3-9c3f-00e95b79ab4c",
   "metadata": {},
   "source": [
    "#### diagram of clicks depend on days of the week:"
   ]
  },
  {
   "cell_type": "code",
   "execution_count": 39,
   "id": "c18378d3-92ce-48bb-a41a-cbb4d23be67d",
   "metadata": {},
   "outputs": [
    {
     "data": {
      "text/plain": [
       "<Axes: xlabel='hour', ylabel='count'>"
      ]
     },
     "execution_count": 39,
     "metadata": {},
     "output_type": "execute_result"
    },
    {
     "data": {
      "image/png": "[encoded data removed]",
      "text/plain": [
       "<Figure size 640x480 with 1 Axes>"
      ]
     },
     "metadata": {},
     "output_type": "display_data"
    }
   ],
   "source": [
    "sns.countplot(x='hour',hue='event_click',data=DF)"
   ]
  },
  {
   "cell_type": "markdown",
   "id": "2c66dfee-6409-40b9-a4b2-f9486f62a791",
   "metadata": {},
   "source": [
    "#### there are much more clicks at certain hours"
   ]
  },
  {
   "cell_type": "markdown",
   "id": "6b697756-186a-4504-a353-3ac0fae0b5ce",
   "metadata": {},
   "source": [
    "#### the correlation of variables (heat map):"
   ]
  },
  {
   "cell_type": "code",
   "execution_count": 40,
   "id": "c23a684a-c2de-482b-b61c-4ff3cda0c13c",
   "metadata": {},
   "outputs": [],
   "source": [
    "corr = DF[['publisher_website', 'visitor_device',\n",
    "       'visitor_device_os', 'visitor_region', 'visitor_browser', 'week_day',\n",
    "       'hour', '1', '3', '10']].corr()"
   ]
  },
  {
   "cell_type": "code",
   "execution_count": 41,
   "id": "5172668a-cdc5-45c9-b759-ab61df21a6c1",
   "metadata": {},
   "outputs": [
    {
     "data": {
      "text/plain": [
       "Text(0.5, 1.05, 'Pearson correlation of Features')"
      ]
     },
     "execution_count": 41,
     "metadata": {},
     "output_type": "execute_result"
    },
    {
     "data": {
      "image/png": "[encoded data removed]",
      "text/plain": [
       "<Figure size 1000x1000 with 2 Axes>"
      ]
     },
     "metadata": {},
     "output_type": "display_data"
    }
   ],
   "source": [
    "f, ax = plt.subplots(figsize=(10,10))\n",
    "sns.heatmap(corr, ax=ax, annot=True,linewidths=3,cmap='YlGn')\n",
    "plt.title(\"Pearson correlation of Features\", y=1.05, size=15)"
   ]
  },
  {
   "cell_type": "code",
   "execution_count": 42,
   "id": "b075d239-9fdd-4a88-ab2a-91492c913f4b",
   "metadata": {},
   "outputs": [
    {
     "data": {
      "text/plain": [
       "Index(['event_click', 'publisher_website', 'visitor_device',\n",
       "       'visitor_device_os', 'visitor_region', 'visitor_browser', 'week_day',\n",
       "       'hour', '1', '3', '10', '11', '13', '200', '201', '204', '206', '207',\n",
       "       '210', '211', '212', '213', '217', '219', '220', '2000', '2003', '2004',\n",
       "       '2006', '2042', '2060', '2100', '2120', '2170', '2190', '2200', '2206',\n",
       "       '21000', '21001', '21700', '21701', '22015', '22016', '22023'],\n",
       "      dtype='object')"
      ]
     },
     "execution_count": 42,
     "metadata": {},
     "output_type": "execute_result"
    }
   ],
   "source": [
    "DF.columns"
   ]
  },
  {
   "cell_type": "markdown",
   "id": "66f830ca-b56f-4d40-a1a0-7ced95b93223",
   "metadata": {},
   "source": [
    "## Split into train and test samples"
   ]
  },
  {
   "cell_type": "code",
   "execution_count": 43,
   "id": "f76c64e4-17bc-458f-91f8-c0fa73f845a3",
   "metadata": {},
   "outputs": [],
   "source": [
    "X = DF.drop(columns=['event_click'],axis=1)\n",
    "y = DF['event_click']"
   ]
  },
  {
   "cell_type": "code",
   "execution_count": 44,
   "id": "ba673332-462f-43fa-a1f1-3e6e311c55da",
   "metadata": {},
   "outputs": [
    {
     "data": {
      "text/plain": [
       "(94944, 43)"
      ]
     },
     "execution_count": 44,
     "metadata": {},
     "output_type": "execute_result"
    }
   ],
   "source": [
    "X.shape"
   ]
  },
  {
   "cell_type": "code",
   "execution_count": 45,
   "id": "a9050bbb-ddb2-4707-a2fb-c61f2b175418",
   "metadata": {},
   "outputs": [
    {
     "name": "stdout",
     "output_type": "stream",
     "text": [
      "(85449, 43) (9495, 43)\n"
     ]
    }
   ],
   "source": [
    "X_train, X_test,y_train,y_test = train_test_split(X,y,test_size=0.1,stratify=y,random_state=2)\n",
    "print(X_train.shape, X_test.shape)"
   ]
  },
  {
   "cell_type": "markdown",
   "id": "5543f54b-b0db-4f97-a91f-1377bdfa5217",
   "metadata": {},
   "source": [
    "## Models building"
   ]
  },
  {
   "cell_type": "markdown",
   "id": "71739541-ffe9-4d4d-9abf-264b3238b5c7",
   "metadata": {},
   "source": [
    "#### method for models evaluation"
   ]
  },
  {
   "cell_type": "code",
   "execution_count": 46,
   "id": "7408b015-2e93-47c7-85e6-4dc38c8a030d",
   "metadata": {},
   "outputs": [],
   "source": [
    "def print_metrics(y_test,y_pred,y_pred_prob):\n",
    "    print(f\"Recall score {recall_score(y_test, y_pred)}\")\n",
    "    print(f\"Precision score {precision_score(y_test, y_pred)}\")\n",
    "    print(f\"f1 score {f1_score(y_test, y_pred)}\")\n",
    "    print(f\"ROC AUC {roc_auc_score(y_test, y_pred_prob)}\")\n",
    "    print(f\"Confusion matrix \\n {confusion_matrix(y_test, y_pred)}\")\n",
    "    print(f\"Classification report \\n{classification_report(y_test, y_pred)}\")"
   ]
  },
  {
   "cell_type": "markdown",
   "id": "d0feaf1d-bc3c-456c-b201-00fd7f294f7b",
   "metadata": {},
   "source": [
    "## 1. Logistic Regression"
   ]
  },
  {
   "cell_type": "code",
   "execution_count": 47,
   "id": "041398cf-daf4-44b4-9d55-faa0aca18173",
   "metadata": {},
   "outputs": [
    {
     "name": "stderr",
     "output_type": "stream",
     "text": [
      "C:\\Users\\natal\\AppData\\Local\\Programs\\Python\\Python310\\lib\\site-packages\\sklearn\\linear_model\\_logistic.py:458: ConvergenceWarning: lbfgs failed to converge (status=1):\n",
      "STOP: TOTAL NO. of ITERATIONS REACHED LIMIT.\n",
      "\n",
      "Increase the number of iterations (max_iter) or scale the data as shown in:\n",
      "    https://scikit-learn.org/stable/modules/preprocessing.html\n",
      "Please also refer to the documentation for alternative solver options:\n",
      "    https://scikit-learn.org/stable/modules/linear_model.html#logistic-regression\n",
      "  n_iter_i = _check_optimize_result(\n"
     ]
    },
    {
     "data": {
      "text/html": [
       "<style>#sk-container-id-1 {color: black;background-color: white;}#sk-container-id-1 pre{padding: 0;}#sk-container-id-1 div.sk-toggleable {background-color: white;}#sk-container-id-1 label.sk-toggleable__label {cursor: pointer;display: block;width: 100%;margin-bottom: 0;padding: 0.3em;box-sizing: border-box;text-align: center;}#sk-container-id-1 label.sk-toggleable__label-arrow:before {content: \"▸\";float: left;margin-right: 0.25em;color: #696969;}#sk-container-id-1 label.sk-toggleable__label-arrow:hover:before {color: black;}#sk-container-id-1 div.sk-estimator:hover label.sk-toggleable__label-arrow:before {color: black;}#sk-container-id-1 div.sk-toggleable__content {max-height: 0;max-width: 0;overflow: hidden;text-align: left;background-color: #f0f8ff;}#sk-container-id-1 div.sk-toggleable__content pre {margin: 0.2em;color: black;border-radius: 0.25em;background-color: #f0f8ff;}#sk-container-id-1 input.sk-toggleable__control:checked~div.sk-toggleable__content {max-height: 200px;max-width: 100%;overflow: auto;}#sk-container-id-1 input.sk-toggleable__control:checked~label.sk-toggleable__label-arrow:before {content: \"▾\";}#sk-container-id-1 div.sk-estimator input.sk-toggleable__control:checked~label.sk-toggleable__label {background-color: #d4ebff;}#sk-container-id-1 div.sk-label input.sk-toggleable__control:checked~label.sk-toggleable__label {background-color: #d4ebff;}#sk-container-id-1 input.sk-hidden--visually {border: 0;clip: rect(1px 1px 1px 1px);clip: rect(1px, 1px, 1px, 1px);height: 1px;margin: -1px;overflow: hidden;padding: 0;position: absolute;width: 1px;}#sk-container-id-1 div.sk-estimator {font-family: monospace;background-color: #f0f8ff;border: 1px dotted black;border-radius: 0.25em;box-sizing: border-box;margin-bottom: 0.5em;}#sk-container-id-1 div.sk-estimator:hover {background-color: #d4ebff;}#sk-container-id-1 div.sk-parallel-item::after {content: \"\";width: 100%;border-bottom: 1px solid gray;flex-grow: 1;}#sk-container-id-1 div.sk-label:hover label.sk-toggleable__label {background-color: #d4ebff;}#sk-container-id-1 div.sk-serial::before {content: \"\";position: absolute;border-left: 1px solid gray;box-sizing: border-box;top: 0;bottom: 0;left: 50%;z-index: 0;}#sk-container-id-1 div.sk-serial {display: flex;flex-direction: column;align-items: center;background-color: white;padding-right: 0.2em;padding-left: 0.2em;position: relative;}#sk-container-id-1 div.sk-item {position: relative;z-index: 1;}#sk-container-id-1 div.sk-parallel {display: flex;align-items: stretch;justify-content: center;background-color: white;position: relative;}#sk-container-id-1 div.sk-item::before, #sk-container-id-1 div.sk-parallel-item::before {content: \"\";position: absolute;border-left: 1px solid gray;box-sizing: border-box;top: 0;bottom: 0;left: 50%;z-index: -1;}#sk-container-id-1 div.sk-parallel-item {display: flex;flex-direction: column;z-index: 1;position: relative;background-color: white;}#sk-container-id-1 div.sk-parallel-item:first-child::after {align-self: flex-end;width: 50%;}#sk-container-id-1 div.sk-parallel-item:last-child::after {align-self: flex-start;width: 50%;}#sk-container-id-1 div.sk-parallel-item:only-child::after {width: 0;}#sk-container-id-1 div.sk-dashed-wrapped {border: 1px dashed gray;margin: 0 0.4em 0.5em 0.4em;box-sizing: border-box;padding-bottom: 0.4em;background-color: white;}#sk-container-id-1 div.sk-label label {font-family: monospace;font-weight: bold;display: inline-block;line-height: 1.2em;}#sk-container-id-1 div.sk-label-container {text-align: center;}#sk-container-id-1 div.sk-container {/* jupyter's `normalize.less` sets `[hidden] { display: none; }` but bootstrap.min.css set `[hidden] { display: none !important; }` so we also need the `!important` here to be able to override the default hidden behavior on the sphinx rendered scikit-learn.org. See: https://github.com/scikit-learn/scikit-learn/issues/21755 */display: inline-block !important;position: relative;}#sk-container-id-1 div.sk-text-repr-fallback {display: none;}</style><div id=\"sk-container-id-1\" class=\"sk-top-container\"><div class=\"sk-text-repr-fallback\"><pre>LogisticRegression()</pre><b>In a Jupyter environment, please rerun this cell to show the HTML representation or trust the notebook. <br />On GitHub, the HTML representation is unable to render, please try loading this page with nbviewer.org.</b></div><div class=\"sk-container\" hidden><div class=\"sk-item\"><div class=\"sk-estimator sk-toggleable\"><input class=\"sk-toggleable__control sk-hidden--visually\" id=\"sk-estimator-id-1\" type=\"checkbox\" checked><label for=\"sk-estimator-id-1\" class=\"sk-toggleable__label sk-toggleable__label-arrow\">LogisticRegression</label><div class=\"sk-toggleable__content\"><pre>LogisticRegression()</pre></div></div></div></div></div>"
      ],
      "text/plain": [
       "LogisticRegression()"
      ]
     },
     "execution_count": 47,
     "metadata": {},
     "output_type": "execute_result"
    }
   ],
   "source": [
    "model = LogisticRegression()\n",
    "model.fit(X_train, y_train)"
   ]
  },
  {
   "cell_type": "code",
   "execution_count": 48,
   "id": "50251aeb-31e7-4681-86f8-637e890d1320",
   "metadata": {},
   "outputs": [],
   "source": [
    "y_pred_lr = model.predict(X_test)\n",
    "y_pred_prob_lr = model.predict_proba(X_test)[:,1]"
   ]
  },
  {
   "cell_type": "code",
   "execution_count": 49,
   "id": "dc078b1c-2a50-4a64-9449-ceff6d27ae19",
   "metadata": {},
   "outputs": [
    {
     "name": "stdout",
     "output_type": "stream",
     "text": [
      "Recall score 0.0006321112515802782\n",
      "Precision score 0.5\n",
      "f1 score 0.0012626262626262627\n",
      "ROC AUC 0.688477753406475\n",
      "Confusion matrix \n",
      " [[7912    1]\n",
      " [1581    1]]\n",
      "Classification report \n",
      "              precision    recall  f1-score   support\n",
      "\n",
      "         0.0       0.83      1.00      0.91      7913\n",
      "         1.0       0.50      0.00      0.00      1582\n",
      "\n",
      "    accuracy                           0.83      9495\n",
      "   macro avg       0.67      0.50      0.46      9495\n",
      "weighted avg       0.78      0.83      0.76      9495\n",
      "\n"
     ]
    }
   ],
   "source": [
    "print_metrics(y_test,y_pred_lr,y_pred_prob_lr)"
   ]
  },
  {
   "cell_type": "markdown",
   "id": "785dcc69-40bc-4809-a2ac-5040383067a8",
   "metadata": {},
   "source": [
    "#### the model marks almost all elements with zeros. let's train a neural network"
   ]
  },
  {
   "cell_type": "markdown",
   "id": "25e462ce-82e1-4a4c-8cd2-0b8488ba2d6b",
   "metadata": {},
   "source": [
    "## 2. Neural network"
   ]
  },
  {
   "cell_type": "code",
   "execution_count": 50,
   "id": "598f46a4-e67a-4155-a11c-7fbf17320700",
   "metadata": {},
   "outputs": [
    {
     "data": {
      "text/html": [
       "<pre style=\"white-space:pre;overflow-x:auto;line-height:normal;font-family:Menlo,'DejaVu Sans Mono',consolas,'Courier New',monospace\"><span style=\"font-weight: bold\">Model: \"classification-model\"</span>\n",
       "</pre>\n"
      ],
      "text/plain": [
       "\u001b[1mModel: \"classification-model\"\u001b[0m\n"
      ]
     },
     "metadata": {},
     "output_type": "display_data"
    },
    {
     "data": {
      "text/html": [
       "<pre style=\"white-space:pre;overflow-x:auto;line-height:normal;font-family:Menlo,'DejaVu Sans Mono',consolas,'Courier New',monospace\">┏━━━━━━━━━━━━━━━━━━━━━━━━━━━━━━━━━━━━━━┳━━━━━━━━━━━━━━━━━━━━━━━━━━━━━┳━━━━━━━━━━━━━━━━━┓\n",
       "┃<span style=\"font-weight: bold\"> Layer (type)                         </span>┃<span style=\"font-weight: bold\"> Output Shape                </span>┃<span style=\"font-weight: bold\">         Param # </span>┃\n",
       "┡━━━━━━━━━━━━━━━━━━━━━━━━━━━━━━━━━━━━━━╇━━━━━━━━━━━━━━━━━━━━━━━━━━━━━╇━━━━━━━━━━━━━━━━━┩\n",
       "│ input_layer (<span style=\"color: #0087ff; text-decoration-color: #0087ff\">InputLayer</span>)             │ (<span style=\"color: #00d7ff; text-decoration-color: #00d7ff\">None</span>, <span style=\"color: #00af00; text-decoration-color: #00af00\">43</span>, <span style=\"color: #00af00; text-decoration-color: #00af00\">1</span>)               │               <span style=\"color: #00af00; text-decoration-color: #00af00\">0</span> │\n",
       "├──────────────────────────────────────┼─────────────────────────────┼─────────────────┤\n",
       "│ batch_normalization                  │ (<span style=\"color: #00d7ff; text-decoration-color: #00d7ff\">None</span>, <span style=\"color: #00af00; text-decoration-color: #00af00\">43</span>, <span style=\"color: #00af00; text-decoration-color: #00af00\">1</span>)               │               <span style=\"color: #00af00; text-decoration-color: #00af00\">4</span> │\n",
       "│ (<span style=\"color: #0087ff; text-decoration-color: #0087ff\">BatchNormalization</span>)                 │                             │                 │\n",
       "├──────────────────────────────────────┼─────────────────────────────┼─────────────────┤\n",
       "│ dense (<span style=\"color: #0087ff; text-decoration-color: #0087ff\">Dense</span>)                        │ (<span style=\"color: #00d7ff; text-decoration-color: #00d7ff\">None</span>, <span style=\"color: #00af00; text-decoration-color: #00af00\">43</span>, <span style=\"color: #00af00; text-decoration-color: #00af00\">1024</span>)            │           <span style=\"color: #00af00; text-decoration-color: #00af00\">2,048</span> │\n",
       "├──────────────────────────────────────┼─────────────────────────────┼─────────────────┤\n",
       "│ dense_1 (<span style=\"color: #0087ff; text-decoration-color: #0087ff\">Dense</span>)                      │ (<span style=\"color: #00d7ff; text-decoration-color: #00d7ff\">None</span>, <span style=\"color: #00af00; text-decoration-color: #00af00\">43</span>, <span style=\"color: #00af00; text-decoration-color: #00af00\">512</span>)             │         <span style=\"color: #00af00; text-decoration-color: #00af00\">524,800</span> │\n",
       "├──────────────────────────────────────┼─────────────────────────────┼─────────────────┤\n",
       "│ dense_2 (<span style=\"color: #0087ff; text-decoration-color: #0087ff\">Dense</span>)                      │ (<span style=\"color: #00d7ff; text-decoration-color: #00d7ff\">None</span>, <span style=\"color: #00af00; text-decoration-color: #00af00\">43</span>, <span style=\"color: #00af00; text-decoration-color: #00af00\">64</span>)              │          <span style=\"color: #00af00; text-decoration-color: #00af00\">32,832</span> │\n",
       "├──────────────────────────────────────┼─────────────────────────────┼─────────────────┤\n",
       "│ dense_3 (<span style=\"color: #0087ff; text-decoration-color: #0087ff\">Dense</span>)                      │ (<span style=\"color: #00d7ff; text-decoration-color: #00d7ff\">None</span>, <span style=\"color: #00af00; text-decoration-color: #00af00\">43</span>, <span style=\"color: #00af00; text-decoration-color: #00af00\">16</span>)              │           <span style=\"color: #00af00; text-decoration-color: #00af00\">1,040</span> │\n",
       "├──────────────────────────────────────┼─────────────────────────────┼─────────────────┤\n",
       "│ flatten (<span style=\"color: #0087ff; text-decoration-color: #0087ff\">Flatten</span>)                    │ (<span style=\"color: #00d7ff; text-decoration-color: #00d7ff\">None</span>, <span style=\"color: #00af00; text-decoration-color: #00af00\">688</span>)                 │               <span style=\"color: #00af00; text-decoration-color: #00af00\">0</span> │\n",
       "├──────────────────────────────────────┼─────────────────────────────┼─────────────────┤\n",
       "│ dropout (<span style=\"color: #0087ff; text-decoration-color: #0087ff\">Dropout</span>)                    │ (<span style=\"color: #00d7ff; text-decoration-color: #00d7ff\">None</span>, <span style=\"color: #00af00; text-decoration-color: #00af00\">688</span>)                 │               <span style=\"color: #00af00; text-decoration-color: #00af00\">0</span> │\n",
       "├──────────────────────────────────────┼─────────────────────────────┼─────────────────┤\n",
       "│ dense_4 (<span style=\"color: #0087ff; text-decoration-color: #0087ff\">Dense</span>)                      │ (<span style=\"color: #00d7ff; text-decoration-color: #00d7ff\">None</span>, <span style=\"color: #00af00; text-decoration-color: #00af00\">1</span>)                   │             <span style=\"color: #00af00; text-decoration-color: #00af00\">689</span> │\n",
       "└──────────────────────────────────────┴─────────────────────────────┴─────────────────┘\n",
       "</pre>\n"
      ],
      "text/plain": [
       "┏━━━━━━━━━━━━━━━━━━━━━━━━━━━━━━━━━━━━━━┳━━━━━━━━━━━━━━━━━━━━━━━━━━━━━┳━━━━━━━━━━━━━━━━━┓\n",
       "┃\u001b[1m \u001b[0m\u001b[1mLayer (type)                        \u001b[0m\u001b[1m \u001b[0m┃\u001b[1m \u001b[0m\u001b[1mOutput Shape               \u001b[0m\u001b[1m \u001b[0m┃\u001b[1m \u001b[0m\u001b[1m        Param #\u001b[0m\u001b[1m \u001b[0m┃\n",
       "┡━━━━━━━━━━━━━━━━━━━━━━━━━━━━━━━━━━━━━━╇━━━━━━━━━━━━━━━━━━━━━━━━━━━━━╇━━━━━━━━━━━━━━━━━┩\n",
       "│ input_layer (\u001b[38;5;33mInputLayer\u001b[0m)             │ (\u001b[38;5;45mNone\u001b[0m, \u001b[38;5;34m43\u001b[0m, \u001b[38;5;34m1\u001b[0m)               │               \u001b[38;5;34m0\u001b[0m │\n",
       "├──────────────────────────────────────┼─────────────────────────────┼─────────────────┤\n",
       "│ batch_normalization                  │ (\u001b[38;5;45mNone\u001b[0m, \u001b[38;5;34m43\u001b[0m, \u001b[38;5;34m1\u001b[0m)               │               \u001b[38;5;34m4\u001b[0m │\n",
       "│ (\u001b[38;5;33mBatchNormalization\u001b[0m)                 │                             │                 │\n",
       "├──────────────────────────────────────┼─────────────────────────────┼─────────────────┤\n",
       "│ dense (\u001b[38;5;33mDense\u001b[0m)                        │ (\u001b[38;5;45mNone\u001b[0m, \u001b[38;5;34m43\u001b[0m, \u001b[38;5;34m1024\u001b[0m)            │           \u001b[38;5;34m2,048\u001b[0m │\n",
       "├──────────────────────────────────────┼─────────────────────────────┼─────────────────┤\n",
       "│ dense_1 (\u001b[38;5;33mDense\u001b[0m)                      │ (\u001b[38;5;45mNone\u001b[0m, \u001b[38;5;34m43\u001b[0m, \u001b[38;5;34m512\u001b[0m)             │         \u001b[38;5;34m524,800\u001b[0m │\n",
       "├──────────────────────────────────────┼─────────────────────────────┼─────────────────┤\n",
       "│ dense_2 (\u001b[38;5;33mDense\u001b[0m)                      │ (\u001b[38;5;45mNone\u001b[0m, \u001b[38;5;34m43\u001b[0m, \u001b[38;5;34m64\u001b[0m)              │          \u001b[38;5;34m32,832\u001b[0m │\n",
       "├──────────────────────────────────────┼─────────────────────────────┼─────────────────┤\n",
       "│ dense_3 (\u001b[38;5;33mDense\u001b[0m)                      │ (\u001b[38;5;45mNone\u001b[0m, \u001b[38;5;34m43\u001b[0m, \u001b[38;5;34m16\u001b[0m)              │           \u001b[38;5;34m1,040\u001b[0m │\n",
       "├──────────────────────────────────────┼─────────────────────────────┼─────────────────┤\n",
       "│ flatten (\u001b[38;5;33mFlatten\u001b[0m)                    │ (\u001b[38;5;45mNone\u001b[0m, \u001b[38;5;34m688\u001b[0m)                 │               \u001b[38;5;34m0\u001b[0m │\n",
       "├──────────────────────────────────────┼─────────────────────────────┼─────────────────┤\n",
       "│ dropout (\u001b[38;5;33mDropout\u001b[0m)                    │ (\u001b[38;5;45mNone\u001b[0m, \u001b[38;5;34m688\u001b[0m)                 │               \u001b[38;5;34m0\u001b[0m │\n",
       "├──────────────────────────────────────┼─────────────────────────────┼─────────────────┤\n",
       "│ dense_4 (\u001b[38;5;33mDense\u001b[0m)                      │ (\u001b[38;5;45mNone\u001b[0m, \u001b[38;5;34m1\u001b[0m)                   │             \u001b[38;5;34m689\u001b[0m │\n",
       "└──────────────────────────────────────┴─────────────────────────────┴─────────────────┘\n"
      ]
     },
     "metadata": {},
     "output_type": "display_data"
    },
    {
     "data": {
      "text/html": [
       "<pre style=\"white-space:pre;overflow-x:auto;line-height:normal;font-family:Menlo,'DejaVu Sans Mono',consolas,'Courier New',monospace\"><span style=\"font-weight: bold\"> Total params: </span><span style=\"color: #00af00; text-decoration-color: #00af00\">561,413</span> (2.14 MB)\n",
       "</pre>\n"
      ],
      "text/plain": [
       "\u001b[1m Total params: \u001b[0m\u001b[38;5;34m561,413\u001b[0m (2.14 MB)\n"
      ]
     },
     "metadata": {},
     "output_type": "display_data"
    },
    {
     "data": {
      "text/html": [
       "<pre style=\"white-space:pre;overflow-x:auto;line-height:normal;font-family:Menlo,'DejaVu Sans Mono',consolas,'Courier New',monospace\"><span style=\"font-weight: bold\"> Trainable params: </span><span style=\"color: #00af00; text-decoration-color: #00af00\">561,411</span> (2.14 MB)\n",
       "</pre>\n"
      ],
      "text/plain": [
       "\u001b[1m Trainable params: \u001b[0m\u001b[38;5;34m561,411\u001b[0m (2.14 MB)\n"
      ]
     },
     "metadata": {},
     "output_type": "display_data"
    },
    {
     "data": {
      "text/html": [
       "<pre style=\"white-space:pre;overflow-x:auto;line-height:normal;font-family:Menlo,'DejaVu Sans Mono',consolas,'Courier New',monospace\"><span style=\"font-weight: bold\"> Non-trainable params: </span><span style=\"color: #00af00; text-decoration-color: #00af00\">2</span> (8.00 B)\n",
       "</pre>\n"
      ],
      "text/plain": [
       "\u001b[1m Non-trainable params: \u001b[0m\u001b[38;5;34m2\u001b[0m (8.00 B)\n"
      ]
     },
     "metadata": {},
     "output_type": "display_data"
    }
   ],
   "source": [
    "inputs = keras.Input(shape=(X_train.shape[1],1))\n",
    "x = layers.BatchNormalization()(inputs)\n",
    "\n",
    "x = layers.Dense(1024, activation='relu')(x)\n",
    "x = layers.Dense(512, activation='relu')(x)\n",
    "x = layers.Dense(64, activation='relu')(x)\n",
    "x = layers.Dense(16, activation='relu')(x)\n",
    "\n",
    "x = layers.Flatten()(x)\n",
    "x = layers.Dropout(0.2)(x)\n",
    "\n",
    "outputs = keras.layers.Dense(1, activation='sigmoid')(x)\n",
    "\n",
    "model = keras.Model(inputs=inputs, outputs=outputs, name=\"classification-model\")\n",
    "model.summary()"
   ]
  },
  {
   "cell_type": "code",
   "execution_count": 51,
   "id": "aac826da-f96b-4ae2-b7ee-feaf0947d61c",
   "metadata": {},
   "outputs": [],
   "source": [
    "optimizer = keras.optimizers.SGD(learning_rate=0.1)"
   ]
  },
  {
   "cell_type": "code",
   "execution_count": 52,
   "id": "ffb2c5e0-4956-4707-889e-ea32b190822d",
   "metadata": {},
   "outputs": [],
   "source": [
    "model.compile(loss='mse',optimizer=optimizer,metrics=[tf.keras.metrics.Precision(),tf.keras.metrics.Recall()])"
   ]
  },
  {
   "cell_type": "code",
   "execution_count": 53,
   "id": "8e8872f3-05d8-4d74-aaf2-e19926803604",
   "metadata": {},
   "outputs": [
    {
     "name": "stdout",
     "output_type": "stream",
     "text": [
      "Epoch 1/100\n",
      "\u001b[1m2137/2137\u001b[0m \u001b[32m━━━━━━━━━━━━━━━━━━━━\u001b[0m\u001b[37m\u001b[0m \u001b[1m67s\u001b[0m 31ms/step - loss: 0.1399 - precision: 0.3602 - recall: 0.0075 - val_loss: 0.1249 - val_precision: 0.0000e+00 - val_recall: 0.0000e+00\n",
      "Epoch 2/100\n",
      "\u001b[1m2137/2137\u001b[0m \u001b[32m━━━━━━━━━━━━━━━━━━━━\u001b[0m\u001b[37m\u001b[0m \u001b[1m67s\u001b[0m 31ms/step - loss: 0.1250 - precision: 0.6154 - recall: 0.0577 - val_loss: 0.1229 - val_precision: 0.8519 - val_recall: 0.0322\n",
      "Epoch 3/100\n",
      "\u001b[1m2137/2137\u001b[0m \u001b[32m━━━━━━━━━━━━━━━━━━━━\u001b[0m\u001b[37m\u001b[0m \u001b[1m66s\u001b[0m 31ms/step - loss: 0.1227 - precision: 0.6160 - recall: 0.1490 - val_loss: 0.1228 - val_precision: 0.8545 - val_recall: 0.0329\n",
      "Epoch 4/100\n",
      "\u001b[1m2137/2137\u001b[0m \u001b[32m━━━━━━━━━━━━━━━━━━━━\u001b[0m\u001b[37m\u001b[0m \u001b[1m67s\u001b[0m 31ms/step - loss: 0.1200 - precision: 0.6609 - recall: 0.1916 - val_loss: 0.1187 - val_precision: 0.7025 - val_recall: 0.3062\n",
      "Epoch 5/100\n",
      "\u001b[1m2137/2137\u001b[0m \u001b[32m━━━━━━━━━━━━━━━━━━━━\u001b[0m\u001b[37m\u001b[0m \u001b[1m68s\u001b[0m 32ms/step - loss: 0.1200 - precision: 0.7025 - recall: 0.2446 - val_loss: 0.1189 - val_precision: 0.6766 - val_recall: 0.1674\n",
      "Epoch 6/100\n",
      "\u001b[1m2137/2137\u001b[0m \u001b[32m━━━━━━━━━━━━━━━━━━━━\u001b[0m\u001b[37m\u001b[0m \u001b[1m70s\u001b[0m 33ms/step - loss: 0.1155 - precision: 0.7224 - recall: 0.2734 - val_loss: 0.1126 - val_precision: 0.7323 - val_recall: 0.3069\n",
      "Epoch 7/100\n",
      "\u001b[1m2137/2137\u001b[0m \u001b[32m━━━━━━━━━━━━━━━━━━━━\u001b[0m\u001b[37m\u001b[0m \u001b[1m71s\u001b[0m 33ms/step - loss: 0.1149 - precision: 0.7493 - recall: 0.2777 - val_loss: 0.1114 - val_precision: 0.7487 - val_recall: 0.3041\n",
      "Epoch 8/100\n",
      "\u001b[1m2137/2137\u001b[0m \u001b[32m━━━━━━━━━━━━━━━━━━━━\u001b[0m\u001b[37m\u001b[0m \u001b[1m68s\u001b[0m 32ms/step - loss: 0.1150 - precision: 0.7449 - recall: 0.2680 - val_loss: 0.1117 - val_precision: 0.7336 - val_recall: 0.3118\n",
      "Epoch 9/100\n",
      "\u001b[1m2137/2137\u001b[0m \u001b[32m━━━━━━━━━━━━━━━━━━━━\u001b[0m\u001b[37m\u001b[0m \u001b[1m68s\u001b[0m 32ms/step - loss: 0.1106 - precision: 0.7701 - recall: 0.2729 - val_loss: 0.1167 - val_precision: 0.6749 - val_recall: 0.3163\n",
      "Epoch 10/100\n",
      "\u001b[1m2137/2137\u001b[0m \u001b[32m━━━━━━━━━━━━━━━━━━━━\u001b[0m\u001b[37m\u001b[0m \u001b[1m68s\u001b[0m 32ms/step - loss: 0.1120 - precision: 0.7673 - recall: 0.2848 - val_loss: 0.1275 - val_precision: 0.2768 - val_recall: 0.0370\n",
      "Epoch 11/100\n",
      "\u001b[1m2137/2137\u001b[0m \u001b[32m━━━━━━━━━━━━━━━━━━━━\u001b[0m\u001b[37m\u001b[0m \u001b[1m68s\u001b[0m 32ms/step - loss: 0.1111 - precision: 0.7680 - recall: 0.2918 - val_loss: 0.1077 - val_precision: 0.8015 - val_recall: 0.3275\n",
      "Epoch 12/100\n",
      "\u001b[1m2137/2137\u001b[0m \u001b[32m━━━━━━━━━━━━━━━━━━━━\u001b[0m\u001b[37m\u001b[0m \u001b[1m69s\u001b[0m 32ms/step - loss: 0.1100 - precision: 0.7854 - recall: 0.2924 - val_loss: 0.1069 - val_precision: 0.8124 - val_recall: 0.3240\n",
      "Epoch 13/100\n",
      "\u001b[1m2137/2137\u001b[0m \u001b[32m━━━━━━━━━━━━━━━━━━━━\u001b[0m\u001b[37m\u001b[0m \u001b[1m68s\u001b[0m 32ms/step - loss: 0.1097 - precision: 0.7816 - recall: 0.2953 - val_loss: 0.1071 - val_precision: 0.7963 - val_recall: 0.3334\n",
      "Epoch 14/100\n",
      "\u001b[1m2137/2137\u001b[0m \u001b[32m━━━━━━━━━━━━━━━━━━━━\u001b[0m\u001b[37m\u001b[0m \u001b[1m68s\u001b[0m 32ms/step - loss: 0.1088 - precision: 0.7793 - recall: 0.2877 - val_loss: 0.1324 - val_precision: 0.5306 - val_recall: 0.0182\n",
      "Epoch 15/100\n",
      "\u001b[1m2137/2137\u001b[0m \u001b[32m━━━━━━━━━━━━━━━━━━━━\u001b[0m\u001b[37m\u001b[0m \u001b[1m69s\u001b[0m 32ms/step - loss: 0.1102 - precision: 0.7868 - recall: 0.2833 - val_loss: 0.1055 - val_precision: 0.8259 - val_recall: 0.3282\n",
      "Epoch 16/100\n",
      "\u001b[1m2137/2137\u001b[0m \u001b[32m━━━━━━━━━━━━━━━━━━━━\u001b[0m\u001b[37m\u001b[0m \u001b[1m69s\u001b[0m 32ms/step - loss: 0.1104 - precision: 0.7932 - recall: 0.2935 - val_loss: 0.1056 - val_precision: 0.8161 - val_recall: 0.3289\n",
      "Epoch 17/100\n",
      "\u001b[1m2137/2137\u001b[0m \u001b[32m━━━━━━━━━━━━━━━━━━━━\u001b[0m\u001b[37m\u001b[0m \u001b[1m68s\u001b[0m 32ms/step - loss: 0.1088 - precision: 0.7957 - recall: 0.2999 - val_loss: 0.1082 - val_precision: 0.8120 - val_recall: 0.3307\n",
      "Epoch 18/100\n",
      "\u001b[1m2137/2137\u001b[0m \u001b[32m━━━━━━━━━━━━━━━━━━━━\u001b[0m\u001b[37m\u001b[0m \u001b[1m68s\u001b[0m 32ms/step - loss: 0.1071 - precision: 0.8022 - recall: 0.3080 - val_loss: 0.1125 - val_precision: 0.7691 - val_recall: 0.3307\n",
      "Epoch 19/100\n",
      "\u001b[1m2137/2137\u001b[0m \u001b[32m━━━━━━━━━━━━━━━━━━━━\u001b[0m\u001b[37m\u001b[0m \u001b[1m69s\u001b[0m 32ms/step - loss: 0.1080 - precision: 0.8071 - recall: 0.3051 - val_loss: 0.1108 - val_precision: 0.7464 - val_recall: 0.3282\n",
      "Epoch 20/100\n",
      "\u001b[1m2137/2137\u001b[0m \u001b[32m━━━━━━━━━━━━━━━━━━━━\u001b[0m\u001b[37m\u001b[0m \u001b[1m69s\u001b[0m 32ms/step - loss: 0.1075 - precision: 0.7907 - recall: 0.2967 - val_loss: 0.1058 - val_precision: 0.8085 - val_recall: 0.3334\n",
      "Epoch 21/100\n",
      "\u001b[1m2137/2137\u001b[0m \u001b[32m━━━━━━━━━━━━━━━━━━━━\u001b[0m\u001b[37m\u001b[0m \u001b[1m69s\u001b[0m 32ms/step - loss: 0.1083 - precision: 0.7888 - recall: 0.2896 - val_loss: 0.1048 - val_precision: 0.8266 - val_recall: 0.3282\n",
      "Epoch 22/100\n",
      "\u001b[1m2137/2137\u001b[0m \u001b[32m━━━━━━━━━━━━━━━━━━━━\u001b[0m\u001b[37m\u001b[0m \u001b[1m69s\u001b[0m 32ms/step - loss: 0.1073 - precision: 0.7967 - recall: 0.2985 - val_loss: 0.1056 - val_precision: 0.8435 - val_recall: 0.3223\n",
      "Epoch 23/100\n",
      "\u001b[1m2137/2137\u001b[0m \u001b[32m━━━━━━━━━━━━━━━━━━━━\u001b[0m\u001b[37m\u001b[0m \u001b[1m69s\u001b[0m 32ms/step - loss: 0.1070 - precision: 0.8177 - recall: 0.3120 - val_loss: 0.1057 - val_precision: 0.8467 - val_recall: 0.3244\n",
      "Epoch 24/100\n",
      "\u001b[1m2137/2137\u001b[0m \u001b[32m━━━━━━━━━━━━━━━━━━━━\u001b[0m\u001b[37m\u001b[0m \u001b[1m70s\u001b[0m 33ms/step - loss: 0.1074 - precision: 0.8018 - recall: 0.3053 - val_loss: 0.1053 - val_precision: 0.8299 - val_recall: 0.3275\n",
      "Epoch 25/100\n",
      "\u001b[1m2137/2137\u001b[0m \u001b[32m━━━━━━━━━━━━━━━━━━━━\u001b[0m\u001b[37m\u001b[0m \u001b[1m68s\u001b[0m 32ms/step - loss: 0.1080 - precision: 0.8001 - recall: 0.2966 - val_loss: 0.1058 - val_precision: 0.8144 - val_recall: 0.3314\n",
      "Epoch 26/100\n",
      "\u001b[1m2137/2137\u001b[0m \u001b[32m━━━━━━━━━━━━━━━━━━━━\u001b[0m\u001b[37m\u001b[0m \u001b[1m68s\u001b[0m 32ms/step - loss: 0.1082 - precision: 0.8178 - recall: 0.3075 - val_loss: 0.1041 - val_precision: 0.8428 - val_recall: 0.3279\n",
      "Epoch 27/100\n",
      "\u001b[1m2137/2137\u001b[0m \u001b[32m━━━━━━━━━━━━━━━━━━━━\u001b[0m\u001b[37m\u001b[0m \u001b[1m69s\u001b[0m 32ms/step - loss: 0.1090 - precision: 0.8046 - recall: 0.3061 - val_loss: 0.1054 - val_precision: 0.8420 - val_recall: 0.3296\n",
      "Epoch 28/100\n",
      "\u001b[1m2137/2137\u001b[0m \u001b[32m━━━━━━━━━━━━━━━━━━━━\u001b[0m\u001b[37m\u001b[0m \u001b[1m69s\u001b[0m 32ms/step - loss: 0.1067 - precision: 0.7962 - recall: 0.3002 - val_loss: 0.1053 - val_precision: 0.8150 - val_recall: 0.3296\n",
      "Epoch 29/100\n",
      "\u001b[1m2137/2137\u001b[0m \u001b[32m━━━━━━━━━━━━━━━━━━━━\u001b[0m\u001b[37m\u001b[0m \u001b[1m70s\u001b[0m 33ms/step - loss: 0.1073 - precision: 0.7999 - recall: 0.3102 - val_loss: 0.1047 - val_precision: 0.8165 - val_recall: 0.3296\n",
      "Epoch 30/100\n",
      "\u001b[1m2137/2137\u001b[0m \u001b[32m━━━━━━━━━━━━━━━━━━━━\u001b[0m\u001b[37m\u001b[0m \u001b[1m69s\u001b[0m 32ms/step - loss: 0.1048 - precision: 0.8150 - recall: 0.3113 - val_loss: 0.1040 - val_precision: 0.8191 - val_recall: 0.3293\n",
      "Epoch 31/100\n",
      "\u001b[1m2137/2137\u001b[0m \u001b[32m━━━━━━━━━━━━━━━━━━━━\u001b[0m\u001b[37m\u001b[0m \u001b[1m69s\u001b[0m 32ms/step - loss: 0.1080 - precision: 0.8092 - recall: 0.3034 - val_loss: 0.1045 - val_precision: 0.8259 - val_recall: 0.3300\n",
      "Epoch 32/100\n",
      "\u001b[1m2137/2137\u001b[0m \u001b[32m━━━━━━━━━━━━━━━━━━━━\u001b[0m\u001b[37m\u001b[0m \u001b[1m69s\u001b[0m 32ms/step - loss: 0.1062 - precision: 0.8080 - recall: 0.3042 - val_loss: 0.1060 - val_precision: 0.7816 - val_recall: 0.3352\n",
      "Epoch 33/100\n",
      "\u001b[1m2137/2137\u001b[0m \u001b[32m━━━━━━━━━━━━━━━━━━━━\u001b[0m\u001b[37m\u001b[0m \u001b[1m70s\u001b[0m 33ms/step - loss: 0.1064 - precision: 0.8080 - recall: 0.3125 - val_loss: 0.1049 - val_precision: 0.8009 - val_recall: 0.3289\n",
      "Epoch 34/100\n",
      "\u001b[1m2137/2137\u001b[0m \u001b[32m━━━━━━━━━━━━━━━━━━━━\u001b[0m\u001b[37m\u001b[0m \u001b[1m70s\u001b[0m 33ms/step - loss: 0.1053 - precision: 0.8138 - recall: 0.3077 - val_loss: 0.1042 - val_precision: 0.8171 - val_recall: 0.3341\n",
      "Epoch 35/100\n",
      "\u001b[1m2137/2137\u001b[0m \u001b[32m━━━━━━━━━━━━━━━━━━━━\u001b[0m\u001b[37m\u001b[0m \u001b[1m69s\u001b[0m 32ms/step - loss: 0.1063 - precision: 0.8154 - recall: 0.3099 - val_loss: 0.1038 - val_precision: 0.8172 - val_recall: 0.3296\n",
      "Epoch 36/100\n",
      "\u001b[1m2137/2137\u001b[0m \u001b[32m━━━━━━━━━━━━━━━━━━━━\u001b[0m\u001b[37m\u001b[0m \u001b[1m70s\u001b[0m 33ms/step - loss: 0.1070 - precision: 0.8133 - recall: 0.3178 - val_loss: 0.1029 - val_precision: 0.8458 - val_recall: 0.3279\n",
      "Epoch 37/100\n",
      "\u001b[1m2137/2137\u001b[0m \u001b[32m━━━━━━━━━━━━━━━━━━━━\u001b[0m\u001b[37m\u001b[0m \u001b[1m70s\u001b[0m 33ms/step - loss: 0.1063 - precision: 0.8073 - recall: 0.3141 - val_loss: 0.1042 - val_precision: 0.8134 - val_recall: 0.3352\n",
      "Epoch 38/100\n",
      "\u001b[1m2137/2137\u001b[0m \u001b[32m━━━━━━━━━━━━━━━━━━━━\u001b[0m\u001b[37m\u001b[0m \u001b[1m70s\u001b[0m 33ms/step - loss: 0.1066 - precision: 0.8207 - recall: 0.3202 - val_loss: 0.1039 - val_precision: 0.8163 - val_recall: 0.3355\n",
      "Epoch 39/100\n",
      "\u001b[1m2137/2137\u001b[0m \u001b[32m━━━━━━━━━━━━━━━━━━━━\u001b[0m\u001b[37m\u001b[0m \u001b[1m70s\u001b[0m 33ms/step - loss: 0.1060 - precision: 0.8117 - recall: 0.3143 - val_loss: 0.1038 - val_precision: 0.8422 - val_recall: 0.3265\n",
      "Epoch 40/100\n",
      "\u001b[1m2137/2137\u001b[0m \u001b[32m━━━━━━━━━━━━━━━━━━━━\u001b[0m\u001b[37m\u001b[0m \u001b[1m72s\u001b[0m 34ms/step - loss: 0.1052 - precision: 0.8200 - recall: 0.3198 - val_loss: 0.1041 - val_precision: 0.8126 - val_recall: 0.3348\n",
      "Epoch 41/100\n",
      "\u001b[1m2137/2137\u001b[0m \u001b[32m━━━━━━━━━━━━━━━━━━━━\u001b[0m\u001b[37m\u001b[0m \u001b[1m72s\u001b[0m 34ms/step - loss: 0.1049 - precision: 0.8179 - recall: 0.3110 - val_loss: 0.1036 - val_precision: 0.8154 - val_recall: 0.3334\n",
      "Epoch 42/100\n",
      "\u001b[1m2137/2137\u001b[0m \u001b[32m━━━━━━━━━━━━━━━━━━━━\u001b[0m\u001b[37m\u001b[0m \u001b[1m70s\u001b[0m 33ms/step - loss: 0.1051 - precision: 0.8132 - recall: 0.3146 - val_loss: 0.1034 - val_precision: 0.8302 - val_recall: 0.3282\n",
      "Epoch 43/100\n",
      "\u001b[1m2137/2137\u001b[0m \u001b[32m━━━━━━━━━━━━━━━━━━━━\u001b[0m\u001b[37m\u001b[0m \u001b[1m70s\u001b[0m 33ms/step - loss: 0.1062 - precision: 0.8056 - recall: 0.3133 - val_loss: 0.1028 - val_precision: 0.8432 - val_recall: 0.3289\n",
      "Epoch 44/100\n",
      "\u001b[1m2137/2137\u001b[0m \u001b[32m━━━━━━━━━━━━━━━━━━━━\u001b[0m\u001b[37m\u001b[0m \u001b[1m70s\u001b[0m 33ms/step - loss: 0.1066 - precision: 0.8108 - recall: 0.3068 - val_loss: 0.1033 - val_precision: 0.8354 - val_recall: 0.3300\n",
      "Epoch 45/100\n",
      "\u001b[1m2137/2137\u001b[0m \u001b[32m━━━━━━━━━━━━━━━━━━━━\u001b[0m\u001b[37m\u001b[0m \u001b[1m70s\u001b[0m 33ms/step - loss: 0.1045 - precision: 0.8138 - recall: 0.3143 - val_loss: 0.1033 - val_precision: 0.8165 - val_recall: 0.3314\n",
      "Epoch 46/100\n",
      "\u001b[1m2137/2137\u001b[0m \u001b[32m━━━━━━━━━━━━━━━━━━━━\u001b[0m\u001b[37m\u001b[0m \u001b[1m70s\u001b[0m 33ms/step - loss: 0.1067 - precision: 0.8238 - recall: 0.3074 - val_loss: 0.1033 - val_precision: 0.8423 - val_recall: 0.3268\n",
      "Epoch 47/100\n",
      "\u001b[1m2137/2137\u001b[0m \u001b[32m━━━━━━━━━━━━━━━━━━━━\u001b[0m\u001b[37m\u001b[0m \u001b[1m70s\u001b[0m 33ms/step - loss: 0.1074 - precision: 0.8105 - recall: 0.3109 - val_loss: 0.1038 - val_precision: 0.8265 - val_recall: 0.3314\n",
      "Epoch 48/100\n",
      "\u001b[1m2137/2137\u001b[0m \u001b[32m━━━━━━━━━━━━━━━━━━━━\u001b[0m\u001b[37m\u001b[0m \u001b[1m70s\u001b[0m 33ms/step - loss: 0.1057 - precision: 0.8129 - recall: 0.3161 - val_loss: 0.1032 - val_precision: 0.8155 - val_recall: 0.3307\n",
      "Epoch 49/100\n",
      "\u001b[1m2137/2137\u001b[0m \u001b[32m━━━━━━━━━━━━━━━━━━━━\u001b[0m\u001b[37m\u001b[0m \u001b[1m70s\u001b[0m 33ms/step - loss: 0.1057 - precision: 0.8027 - recall: 0.3102 - val_loss: 0.1034 - val_precision: 0.8201 - val_recall: 0.3314\n",
      "Epoch 50/100\n",
      "\u001b[1m2137/2137\u001b[0m \u001b[32m━━━━━━━━━━━━━━━━━━━━\u001b[0m\u001b[37m\u001b[0m \u001b[1m70s\u001b[0m 33ms/step - loss: 0.1059 - precision: 0.8055 - recall: 0.3087 - val_loss: 0.1024 - val_precision: 0.8458 - val_recall: 0.3317\n",
      "Epoch 51/100\n",
      "\u001b[1m2137/2137\u001b[0m \u001b[32m━━━━━━━━━━━━━━━━━━━━\u001b[0m\u001b[37m\u001b[0m \u001b[1m71s\u001b[0m 33ms/step - loss: 0.1061 - precision: 0.8093 - recall: 0.3105 - val_loss: 0.1023 - val_precision: 0.8488 - val_recall: 0.3296\n",
      "Epoch 52/100\n",
      "\u001b[1m2137/2137\u001b[0m \u001b[32m━━━━━━━━━━━━━━━━━━━━\u001b[0m\u001b[37m\u001b[0m \u001b[1m71s\u001b[0m 33ms/step - loss: 0.1043 - precision: 0.8243 - recall: 0.3196 - val_loss: 0.1019 - val_precision: 0.8459 - val_recall: 0.3300\n",
      "Epoch 53/100\n",
      "\u001b[1m2137/2137\u001b[0m \u001b[32m━━━━━━━━━━━━━━━━━━━━\u001b[0m\u001b[37m\u001b[0m \u001b[1m71s\u001b[0m 33ms/step - loss: 0.1042 - precision: 0.8210 - recall: 0.3159 - val_loss: 0.1033 - val_precision: 0.8138 - val_recall: 0.3376\n",
      "Epoch 54/100\n",
      "\u001b[1m2137/2137\u001b[0m \u001b[32m━━━━━━━━━━━━━━━━━━━━\u001b[0m\u001b[37m\u001b[0m \u001b[1m71s\u001b[0m 33ms/step - loss: 0.1053 - precision: 0.8205 - recall: 0.3204 - val_loss: 0.1014 - val_precision: 0.8279 - val_recall: 0.3548\n",
      "Epoch 55/100\n",
      "\u001b[1m2137/2137\u001b[0m \u001b[32m━━━━━━━━━━━━━━━━━━━━\u001b[0m\u001b[37m\u001b[0m \u001b[1m71s\u001b[0m 33ms/step - loss: 0.1047 - precision: 0.8257 - recall: 0.3301 - val_loss: 0.1001 - val_precision: 0.8362 - val_recall: 0.3604\n",
      "Epoch 56/100\n",
      "\u001b[1m2137/2137\u001b[0m \u001b[32m━━━━━━━━━━━━━━━━━━━━\u001b[0m\u001b[37m\u001b[0m \u001b[1m71s\u001b[0m 33ms/step - loss: 0.1030 - precision: 0.8277 - recall: 0.3421 - val_loss: 0.0998 - val_precision: 0.8471 - val_recall: 0.3660\n",
      "Epoch 57/100\n",
      "\u001b[1m2137/2137\u001b[0m \u001b[32m━━━━━━━━━━━━━━━━━━━━\u001b[0m\u001b[37m\u001b[0m \u001b[1m71s\u001b[0m 33ms/step - loss: 0.1033 - precision: 0.8323 - recall: 0.3433 - val_loss: 0.1006 - val_precision: 0.8309 - val_recall: 0.3625\n",
      "Epoch 58/100\n",
      "\u001b[1m2137/2137\u001b[0m \u001b[32m━━━━━━━━━━━━━━━━━━━━\u001b[0m\u001b[37m\u001b[0m \u001b[1m71s\u001b[0m 33ms/step - loss: 0.1031 - precision: 0.8235 - recall: 0.3408 - val_loss: 0.0999 - val_precision: 0.8409 - val_recall: 0.3639\n",
      "Epoch 59/100\n",
      "\u001b[1m2137/2137\u001b[0m \u001b[32m━━━━━━━━━━━━━━━━━━━━\u001b[0m\u001b[37m\u001b[0m \u001b[1m71s\u001b[0m 33ms/step - loss: 0.1021 - precision: 0.8358 - recall: 0.3376 - val_loss: 0.0996 - val_precision: 0.8315 - val_recall: 0.3691\n",
      "Epoch 60/100\n",
      "\u001b[1m2137/2137\u001b[0m \u001b[32m━━━━━━━━━━━━━━━━━━━━\u001b[0m\u001b[37m\u001b[0m \u001b[1m71s\u001b[0m 33ms/step - loss: 0.1016 - precision: 0.8293 - recall: 0.3400 - val_loss: 0.1003 - val_precision: 0.8407 - val_recall: 0.3708\n",
      "Epoch 61/100\n",
      "\u001b[1m2137/2137\u001b[0m \u001b[32m━━━━━━━━━━━━━━━━━━━━\u001b[0m\u001b[37m\u001b[0m \u001b[1m71s\u001b[0m 33ms/step - loss: 0.1018 - precision: 0.8356 - recall: 0.3475 - val_loss: 0.1003 - val_precision: 0.8313 - val_recall: 0.3719\n",
      "Epoch 62/100\n",
      "\u001b[1m2137/2137\u001b[0m \u001b[32m━━━━━━━━━━━━━━━━━━━━\u001b[0m\u001b[37m\u001b[0m \u001b[1m71s\u001b[0m 33ms/step - loss: 0.1016 - precision: 0.8365 - recall: 0.3481 - val_loss: 0.0992 - val_precision: 0.8442 - val_recall: 0.3656\n",
      "Epoch 63/100\n",
      "\u001b[1m2137/2137\u001b[0m \u001b[32m━━━━━━━━━━━━━━━━━━━━\u001b[0m\u001b[37m\u001b[0m \u001b[1m71s\u001b[0m 33ms/step - loss: 0.1011 - precision: 0.8282 - recall: 0.3439 - val_loss: 0.0996 - val_precision: 0.8583 - val_recall: 0.3642\n",
      "Epoch 64/100\n",
      "\u001b[1m2137/2137\u001b[0m \u001b[32m━━━━━━━━━━━━━━━━━━━━\u001b[0m\u001b[37m\u001b[0m \u001b[1m71s\u001b[0m 33ms/step - loss: 0.1022 - precision: 0.8292 - recall: 0.3416 - val_loss: 0.0993 - val_precision: 0.8430 - val_recall: 0.3660\n",
      "Epoch 65/100\n",
      "\u001b[1m2137/2137\u001b[0m \u001b[32m━━━━━━━━━━━━━━━━━━━━\u001b[0m\u001b[37m\u001b[0m \u001b[1m71s\u001b[0m 33ms/step - loss: 0.1003 - precision: 0.8336 - recall: 0.3485 - val_loss: 0.1002 - val_precision: 0.8283 - val_recall: 0.3708\n",
      "Epoch 66/100\n",
      "\u001b[1m2137/2137\u001b[0m \u001b[32m━━━━━━━━━━━━━━━━━━━━\u001b[0m\u001b[37m\u001b[0m \u001b[1m72s\u001b[0m 33ms/step - loss: 0.1037 - precision: 0.8325 - recall: 0.3481 - val_loss: 0.1000 - val_precision: 0.8312 - val_recall: 0.3684\n",
      "Epoch 67/100\n",
      "\u001b[1m2137/2137\u001b[0m \u001b[32m━━━━━━━━━━━━━━━━━━━━\u001b[0m\u001b[37m\u001b[0m \u001b[1m72s\u001b[0m 34ms/step - loss: 0.1018 - precision: 0.8281 - recall: 0.3478 - val_loss: 0.0988 - val_precision: 0.8464 - val_recall: 0.3660\n",
      "Epoch 68/100\n",
      "\u001b[1m2137/2137\u001b[0m \u001b[32m━━━━━━━━━━━━━━━━━━━━\u001b[0m\u001b[37m\u001b[0m \u001b[1m72s\u001b[0m 34ms/step - loss: 0.1025 - precision: 0.8361 - recall: 0.3399 - val_loss: 0.0982 - val_precision: 0.8615 - val_recall: 0.3653\n",
      "Epoch 69/100\n",
      "\u001b[1m2137/2137\u001b[0m \u001b[32m━━━━━━━━━━━━━━━━━━━━\u001b[0m\u001b[37m\u001b[0m \u001b[1m72s\u001b[0m 34ms/step - loss: 0.1019 - precision: 0.8444 - recall: 0.3438 - val_loss: 0.0988 - val_precision: 0.8461 - val_recall: 0.3670\n",
      "Epoch 70/100\n",
      "\u001b[1m2137/2137\u001b[0m \u001b[32m━━━━━━━━━━━━━━━━━━━━\u001b[0m\u001b[37m\u001b[0m \u001b[1m72s\u001b[0m 34ms/step - loss: 0.1007 - precision: 0.8393 - recall: 0.3481 - val_loss: 0.0984 - val_precision: 0.8595 - val_recall: 0.3635\n",
      "Epoch 71/100\n",
      "\u001b[1m2137/2137\u001b[0m \u001b[32m━━━━━━━━━━━━━━━━━━━━\u001b[0m\u001b[37m\u001b[0m \u001b[1m73s\u001b[0m 34ms/step - loss: 0.1006 - precision: 0.8325 - recall: 0.3444 - val_loss: 0.1009 - val_precision: 0.8244 - val_recall: 0.3726\n",
      "Epoch 72/100\n",
      "\u001b[1m2137/2137\u001b[0m \u001b[32m━━━━━━━━━━━━━━━━━━━━\u001b[0m\u001b[37m\u001b[0m \u001b[1m72s\u001b[0m 34ms/step - loss: 0.1016 - precision: 0.8305 - recall: 0.3455 - val_loss: 0.0980 - val_precision: 0.8594 - val_recall: 0.3653\n",
      "Epoch 73/100\n",
      "\u001b[1m2137/2137\u001b[0m \u001b[32m━━━━━━━━━━━━━━━━━━━━\u001b[0m\u001b[37m\u001b[0m \u001b[1m72s\u001b[0m 34ms/step - loss: 0.1008 - precision: 0.8341 - recall: 0.3460 - val_loss: 0.0997 - val_precision: 0.8303 - val_recall: 0.3677\n",
      "Epoch 74/100\n",
      "\u001b[1m2137/2137\u001b[0m \u001b[32m━━━━━━━━━━━━━━━━━━━━\u001b[0m\u001b[37m\u001b[0m \u001b[1m73s\u001b[0m 34ms/step - loss: 0.0998 - precision: 0.8321 - recall: 0.3484 - val_loss: 0.0998 - val_precision: 0.8415 - val_recall: 0.3656\n",
      "Epoch 75/100\n",
      "\u001b[1m2137/2137\u001b[0m \u001b[32m━━━━━━━━━━━━━━━━━━━━\u001b[0m\u001b[37m\u001b[0m \u001b[1m73s\u001b[0m 34ms/step - loss: 0.1010 - precision: 0.8355 - recall: 0.3418 - val_loss: 0.0984 - val_precision: 0.8599 - val_recall: 0.3646\n",
      "Epoch 76/100\n",
      "\u001b[1m2137/2137\u001b[0m \u001b[32m━━━━━━━━━━━━━━━━━━━━\u001b[0m\u001b[37m\u001b[0m \u001b[1m73s\u001b[0m 34ms/step - loss: 0.1010 - precision: 0.8346 - recall: 0.3480 - val_loss: 0.0983 - val_precision: 0.8566 - val_recall: 0.3674\n",
      "Epoch 77/100\n",
      "\u001b[1m2137/2137\u001b[0m \u001b[32m━━━━━━━━━━━━━━━━━━━━\u001b[0m\u001b[37m\u001b[0m \u001b[1m73s\u001b[0m 34ms/step - loss: 0.1021 - precision: 0.8387 - recall: 0.3448 - val_loss: 0.0987 - val_precision: 0.8450 - val_recall: 0.3660\n",
      "Epoch 78/100\n",
      "\u001b[1m2137/2137\u001b[0m \u001b[32m━━━━━━━━━━━━━━━━━━━━\u001b[0m\u001b[37m\u001b[0m \u001b[1m73s\u001b[0m 34ms/step - loss: 0.1004 - precision: 0.8363 - recall: 0.3523 - val_loss: 0.0983 - val_precision: 0.8597 - val_recall: 0.3684\n",
      "Epoch 79/100\n",
      "\u001b[1m2137/2137\u001b[0m \u001b[32m━━━━━━━━━━━━━━━━━━━━\u001b[0m\u001b[37m\u001b[0m \u001b[1m73s\u001b[0m 34ms/step - loss: 0.1003 - precision: 0.8420 - recall: 0.3531 - val_loss: 0.0982 - val_precision: 0.8519 - val_recall: 0.3660\n",
      "Epoch 80/100\n",
      "\u001b[1m2137/2137\u001b[0m \u001b[32m━━━━━━━━━━━━━━━━━━━━\u001b[0m\u001b[37m\u001b[0m \u001b[1m73s\u001b[0m 34ms/step - loss: 0.1012 - precision: 0.8284 - recall: 0.3451 - val_loss: 0.0995 - val_precision: 0.8594 - val_recall: 0.3632\n",
      "Epoch 81/100\n",
      "\u001b[1m2137/2137\u001b[0m \u001b[32m━━━━━━━━━━━━━━━━━━━━\u001b[0m\u001b[37m\u001b[0m \u001b[1m73s\u001b[0m 34ms/step - loss: 0.1014 - precision: 0.8392 - recall: 0.3449 - val_loss: 0.0985 - val_precision: 0.8454 - val_recall: 0.3670\n",
      "Epoch 82/100\n",
      "\u001b[1m2137/2137\u001b[0m \u001b[32m━━━━━━━━━━━━━━━━━━━━\u001b[0m\u001b[37m\u001b[0m \u001b[1m73s\u001b[0m 34ms/step - loss: 0.1024 - precision: 0.8328 - recall: 0.3362 - val_loss: 0.0990 - val_precision: 0.8614 - val_recall: 0.3628\n",
      "Epoch 83/100\n",
      "\u001b[1m2137/2137\u001b[0m \u001b[32m━━━━━━━━━━━━━━━━━━━━\u001b[0m\u001b[37m\u001b[0m \u001b[1m73s\u001b[0m 34ms/step - loss: 0.1021 - precision: 0.8459 - recall: 0.3432 - val_loss: 0.0984 - val_precision: 0.8513 - val_recall: 0.3663\n",
      "Epoch 84/100\n",
      "\u001b[1m2137/2137\u001b[0m \u001b[32m━━━━━━━━━━━━━━━━━━━━\u001b[0m\u001b[37m\u001b[0m \u001b[1m73s\u001b[0m 34ms/step - loss: 0.1023 - precision: 0.8316 - recall: 0.3397 - val_loss: 0.0991 - val_precision: 0.8495 - val_recall: 0.3649\n",
      "Epoch 85/100\n",
      "\u001b[1m2137/2137\u001b[0m \u001b[32m━━━━━━━━━━━━━━━━━━━━\u001b[0m\u001b[37m\u001b[0m \u001b[1m73s\u001b[0m 34ms/step - loss: 0.1017 - precision: 0.8393 - recall: 0.3458 - val_loss: 0.0981 - val_precision: 0.8597 - val_recall: 0.3642\n",
      "Epoch 86/100\n",
      "\u001b[1m2137/2137\u001b[0m \u001b[32m━━━━━━━━━━━━━━━━━━━━\u001b[0m\u001b[37m\u001b[0m \u001b[1m73s\u001b[0m 34ms/step - loss: 0.1023 - precision: 0.8392 - recall: 0.3387 - val_loss: 0.0994 - val_precision: 0.8382 - val_recall: 0.3712\n",
      "Epoch 87/100\n",
      "\u001b[1m2137/2137\u001b[0m \u001b[32m━━━━━━━━━━━━━━━━━━━━\u001b[0m\u001b[37m\u001b[0m \u001b[1m73s\u001b[0m 34ms/step - loss: 0.0999 - precision: 0.8447 - recall: 0.3547 - val_loss: 0.0988 - val_precision: 0.8472 - val_recall: 0.3663\n",
      "Epoch 88/100\n",
      "\u001b[1m2137/2137\u001b[0m \u001b[32m━━━━━━━━━━━━━━━━━━━━\u001b[0m\u001b[37m\u001b[0m \u001b[1m73s\u001b[0m 34ms/step - loss: 0.1023 - precision: 0.8393 - recall: 0.3465 - val_loss: 0.0985 - val_precision: 0.8577 - val_recall: 0.3667\n",
      "Epoch 89/100\n",
      "\u001b[1m2137/2137\u001b[0m \u001b[32m━━━━━━━━━━━━━━━━━━━━\u001b[0m\u001b[37m\u001b[0m \u001b[1m74s\u001b[0m 34ms/step - loss: 0.1010 - precision: 0.8376 - recall: 0.3510 - val_loss: 0.1224 - val_precision: 0.5893 - val_recall: 0.1073\n",
      "Epoch 90/100\n",
      "\u001b[1m2137/2137\u001b[0m \u001b[32m━━━━━━━━━━━━━━━━━━━━\u001b[0m\u001b[37m\u001b[0m \u001b[1m74s\u001b[0m 34ms/step - loss: 0.1006 - precision: 0.8301 - recall: 0.3478 - val_loss: 0.0985 - val_precision: 0.8444 - val_recall: 0.3660\n",
      "Epoch 91/100\n",
      "\u001b[1m2137/2137\u001b[0m \u001b[32m━━━━━━━━━━━━━━━━━━━━\u001b[0m\u001b[37m\u001b[0m \u001b[1m74s\u001b[0m 35ms/step - loss: 0.1013 - precision: 0.8398 - recall: 0.3417 - val_loss: 0.0988 - val_precision: 0.8333 - val_recall: 0.3670\n",
      "Epoch 92/100\n",
      "\u001b[1m2137/2137\u001b[0m \u001b[32m━━━━━━━━━━━━━━━━━━━━\u001b[0m\u001b[37m\u001b[0m \u001b[1m74s\u001b[0m 35ms/step - loss: 0.1015 - precision: 0.8310 - recall: 0.3512 - val_loss: 0.0983 - val_precision: 0.8582 - val_recall: 0.3639\n",
      "Epoch 93/100\n",
      "\u001b[1m2137/2137\u001b[0m \u001b[32m━━━━━━━━━━━━━━━━━━━━\u001b[0m\u001b[37m\u001b[0m \u001b[1m74s\u001b[0m 35ms/step - loss: 0.1012 - precision: 0.8413 - recall: 0.3528 - val_loss: 0.1002 - val_precision: 0.8032 - val_recall: 0.3708\n",
      "Epoch 94/100\n",
      "\u001b[1m2137/2137\u001b[0m \u001b[32m━━━━━━━━━━━━━━━━━━━━\u001b[0m\u001b[37m\u001b[0m \u001b[1m74s\u001b[0m 35ms/step - loss: 0.1020 - precision: 0.8299 - recall: 0.3409 - val_loss: 0.0987 - val_precision: 0.8444 - val_recall: 0.3660\n",
      "Epoch 95/100\n",
      "\u001b[1m2137/2137\u001b[0m \u001b[32m━━━━━━━━━━━━━━━━━━━━\u001b[0m\u001b[37m\u001b[0m \u001b[1m74s\u001b[0m 35ms/step - loss: 0.1004 - precision: 0.8396 - recall: 0.3455 - val_loss: 0.0988 - val_precision: 0.8457 - val_recall: 0.3660\n",
      "Epoch 96/100\n",
      "\u001b[1m2137/2137\u001b[0m \u001b[32m━━━━━━━━━━━━━━━━━━━━\u001b[0m\u001b[37m\u001b[0m \u001b[1m75s\u001b[0m 35ms/step - loss: 0.1020 - precision: 0.8379 - recall: 0.3421 - val_loss: 0.0982 - val_precision: 0.8452 - val_recall: 0.3663\n",
      "Epoch 97/100\n",
      "\u001b[1m2137/2137\u001b[0m \u001b[32m━━━━━━━━━━━━━━━━━━━━\u001b[0m\u001b[37m\u001b[0m \u001b[1m77s\u001b[0m 36ms/step - loss: 0.1002 - precision: 0.8361 - recall: 0.3506 - val_loss: 0.0997 - val_precision: 0.8596 - val_recall: 0.3702\n",
      "Epoch 98/100\n",
      "\u001b[1m2137/2137\u001b[0m \u001b[32m━━━━━━━━━━━━━━━━━━━━\u001b[0m\u001b[37m\u001b[0m \u001b[1m75s\u001b[0m 35ms/step - loss: 0.1009 - precision: 0.8364 - recall: 0.3392 - val_loss: 0.0997 - val_precision: 0.8248 - val_recall: 0.3702\n",
      "Epoch 99/100\n",
      "\u001b[1m2137/2137\u001b[0m \u001b[32m━━━━━━━━━━━━━━━━━━━━\u001b[0m\u001b[37m\u001b[0m \u001b[1m76s\u001b[0m 35ms/step - loss: 0.1020 - precision: 0.8401 - recall: 0.3429 - val_loss: 0.0995 - val_precision: 0.8363 - val_recall: 0.3715\n",
      "Epoch 100/100\n",
      "\u001b[1m2137/2137\u001b[0m \u001b[32m━━━━━━━━━━━━━━━━━━━━\u001b[0m\u001b[37m\u001b[0m \u001b[1m75s\u001b[0m 35ms/step - loss: 0.0998 - precision: 0.8368 - recall: 0.3582 - val_loss: 0.0983 - val_precision: 0.8659 - val_recall: 0.3635\n"
     ]
    }
   ],
   "source": [
    "fit_results = model.fit(x=X_train,y=y_train,epochs=100,validation_split=0.2)"
   ]
  },
  {
   "cell_type": "code",
   "execution_count": 54,
   "id": "5a998293-a250-4534-83c6-57b3e04ebf7b",
   "metadata": {},
   "outputs": [
    {
     "name": "stdout",
     "output_type": "stream",
     "text": [
      "\u001b[1m297/297\u001b[0m \u001b[32m━━━━━━━━━━━━━━━━━━━━\u001b[0m\u001b[37m\u001b[0m \u001b[1m3s\u001b[0m 8ms/step\n"
     ]
    }
   ],
   "source": [
    "y_pred_prob_cnn = model.predict(X_test)"
   ]
  },
  {
   "cell_type": "code",
   "execution_count": 55,
   "id": "dbc51c11-31f2-4120-bbd4-268a7ae5e283",
   "metadata": {},
   "outputs": [],
   "source": [
    "y_pred_cnn = list(map(lambda i: 1 if i>= 0.5 else 0,y_pred_prob_cnn))"
   ]
  },
  {
   "cell_type": "code",
   "execution_count": 56,
   "id": "5da1c49d-4d65-4ed4-8087-083d2b1d80e2",
   "metadata": {},
   "outputs": [
    {
     "name": "stdout",
     "output_type": "stream",
     "text": [
      "Recall score 0.3552465233881163\n",
      "Precision score 0.8659476117103235\n",
      "f1 score 0.5038099506947556\n",
      "ROC AUC 0.7867279563482965\n",
      "Confusion matrix \n",
      " [[7826   87]\n",
      " [1020  562]]\n",
      "Classification report \n",
      "              precision    recall  f1-score   support\n",
      "\n",
      "         0.0       0.88      0.99      0.93      7913\n",
      "         1.0       0.87      0.36      0.50      1582\n",
      "\n",
      "    accuracy                           0.88      9495\n",
      "   macro avg       0.88      0.67      0.72      9495\n",
      "weighted avg       0.88      0.88      0.86      9495\n",
      "\n"
     ]
    }
   ],
   "source": [
    "print_metrics(y_test,y_pred_cnn,y_pred_prob_cnn)"
   ]
  },
  {
   "cell_type": "markdown",
   "id": "4e70bea2-4e7b-4de4-800b-8dbb4e15e7c9",
   "metadata": {},
   "source": [
    "## Conclusion"
   ]
  },
  {
   "cell_type": "markdown",
   "id": "806ebf09-71e4-4abf-83b7-b26161e69ca0",
   "metadata": {},
   "source": [
    "#### neural network results are better than logistic regression results\n",
    "#### we have high precision of 87% and low recall of 36%, that is, we have a high decision threshold - we mark 0 again # instead of making an extra mistake by marking 1 (FN is less important for us than FP, therefore the more important metric is precision)"
   ]
  },
  {
   "cell_type": "code",
   "execution_count": null,
   "id": "2d004616-ba62-4ad1-954c-7127e2e3a8d0",
   "metadata": {},
   "outputs": [],
   "source": []
  }
 ],
 "metadata": {
  "kernelspec": {
   "display_name": "Python 3 (ipykernel)",
   "language": "python",
   "name": "python3"
  },
  "language_info": {
   "codemirror_mode": {
    "name": "ipython",
    "version": 3
   },
   "file_extension": ".py",
   "mimetype": "text/x-python",
   "name": "python",
   "nbconvert_exporter": "python",
   "pygments_lexer": "ipython3",
   "version": "3.10.11"
  }
 },
 "nbformat": 4,
 "nbformat_minor": 5
}
